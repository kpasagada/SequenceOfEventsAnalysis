{
 "cells": [
  {
   "cell_type": "code",
   "execution_count": 37,
   "metadata": {},
   "outputs": [],
   "source": [
    "# import findspark\n",
    "# findspark.init()\n",
    "\n",
    "# import pyspark\n",
    "# import random\n",
    "\n",
    "# sc = pyspark.SparkContext(appName=\"Pi\")\n",
    "# num_samples = 100000000\n",
    "\n",
    "# def inside(p):     \n",
    "#   x, y = random.random(), random.random()\n",
    "#   return x*x + y*y < 1\n",
    "\n",
    "# count = sc.parallelize(range(0, num_samples)).filter(inside).count()\n",
    "\n",
    "# pi = 4 * count / num_samples\n",
    "# print(pi)\n",
    "\n",
    "# sc.stop()"
   ]
  },
  {
   "cell_type": "markdown",
   "metadata": {},
   "source": [
    "# To run spark on jupyter"
   ]
  },
  {
   "cell_type": "code",
   "execution_count": 1,
   "metadata": {},
   "outputs": [],
   "source": [
    "import findspark\n",
    "findspark.init()\n",
    "\n",
    "import pyspark\n",
    "import random"
   ]
  },
  {
   "cell_type": "markdown",
   "metadata": {},
   "source": [
    "# Load events"
   ]
  },
  {
   "cell_type": "code",
   "execution_count": 49,
   "metadata": {},
   "outputs": [
    {
     "name": "stdout",
     "output_type": "stream",
     "text": [
      "{'code': '060', 'src_actor': 'RUS', 'month': '10', 'tgt_actor': '', 'country_code': 'UKR', 'year': '2018', 'date8_val': {'$date': 1539302400000}, 'id': '5bc0e3beff261b4fdacb191b_3', 'source': 'RUS', 'date8': '20181012', 'src_agent': '', 'latitude': 49.0, 'src_other_agent': '', 'geoname': 'Ukraine ', 'quad_class': 2, 'source_text': 'bbc', 'root_code': '06', 'tgt_other_agent': '', 'day': '12', 'target': '---MIL', 'goldstein': 6.0, 'tgt_agent': 'MIL', 'longitude': 32.0, 'url': 'https://www.bbc.co.uk/news/world-europe-45834197', '_id': {'$oid': '5bc0e4c7583dca39fd0d583d'}}\n"
     ]
    }
   ],
   "source": [
    "import json\n",
    "with open('event_10_2018.json') as json_file:\n",
    "    data = json.load(json_file)\n",
    "#     data = data['data']\n",
    "print(data[0])"
   ]
  },
  {
   "cell_type": "code",
   "execution_count": 92,
   "metadata": {},
   "outputs": [],
   "source": []
  },
  {
   "cell_type": "code",
   "execution_count": 35,
   "metadata": {},
   "outputs": [
    {
     "data": {
      "text/plain": [
       "{'code': '033',\n",
       " 'src_actor': 'USA',\n",
       " 'month': '10',\n",
       " 'tgt_actor': 'USA',\n",
       " 'country_code': 'USA',\n",
       " 'year': '2017',\n",
       " 'date8_val': {'$date': 1509408000000},\n",
       " 'id': '59f7feb4de7923401d8a5d7a_1',\n",
       " 'source': 'USA',\n",
       " 'date8': '20171031',\n",
       " 'src_agent': '',\n",
       " 'latitude': 21.30694,\n",
       " 'src_other_agent': '',\n",
       " 'geoname': 'Honolulu Hawaii',\n",
       " 'quad_class': 1,\n",
       " 'source_text': 'wn_world',\n",
       " 'root_code': '03',\n",
       " 'tgt_other_agent': '',\n",
       " 'day': '31',\n",
       " 'target': 'USAGOV',\n",
       " 'goldstein': 5.2,\n",
       " 'tgt_agent': 'GOV',\n",
       " 'longitude': -157.85833,\n",
       " 'url': 'https://article.wn.com/view/2017/10/31/6_states_seek_to_intervene_in_Hawaiis_travel_ban_challenge_e2/',\n",
       " '_id': {'$oid': '59f7fffe583dca26c729493a'}}"
      ]
     },
     "execution_count": 35,
     "metadata": {},
     "output_type": "execute_result"
    }
   ],
   "source": [
    "# checking data\n",
    "data[0]"
   ]
  },
  {
   "cell_type": "markdown",
   "metadata": {},
   "source": [
    "# Write it to an out file for proper reading"
   ]
  },
  {
   "cell_type": "code",
   "execution_count": 51,
   "metadata": {},
   "outputs": [],
   "source": [
    "\n",
    "for i in range(len(data)):\n",
    "    with open(\"out.json\",'a') as file:\n",
    "        file.write(json.dumps(data[i]))\n",
    "        file.write(\"\\n\")  \n",
    "    file.close()\n"
   ]
  },
  {
   "cell_type": "markdown",
   "metadata": {},
   "source": [
    "# Load libraries"
   ]
  },
  {
   "cell_type": "code",
   "execution_count": 52,
   "metadata": {},
   "outputs": [],
   "source": [
    "from math import sqrt\n",
    "import numpy as np\n",
    "from numpy import array\n",
    "import pyspark\n",
    "from pyspark import *\n",
    "from pyspark.conf import *\n",
    "from pyspark.sql import *\n",
    "from pyspark import SparkContext\n",
    "from pyspark import SparkConf, SparkContext\n",
    "import pyspark.sql \n",
    "from pyspark.sql import SQLContext\n",
    "from pyspark.sql.types import *\n",
    "\n",
    "# sc = spark.sparkContext"
   ]
  },
  {
   "cell_type": "code",
   "execution_count": 344,
   "metadata": {},
   "outputs": [],
   "source": [
    "conf = SparkConf().setAppName(\"News\").setMaster(\"local\")\n",
    "spark = SparkContext(conf = conf)\n",
    "session = SparkSession(spark)"
   ]
  },
  {
   "cell_type": "markdown",
   "metadata": {},
   "source": [
    "# read Json"
   ]
  },
  {
   "cell_type": "code",
   "execution_count": 105,
   "metadata": {},
   "outputs": [],
   "source": [
    "# df = spark.read.json(\"out.json\")\n",
    "eventsDF = session.read.json(\"out.json\",multiLine = False)"
   ]
  },
  {
   "cell_type": "code",
   "execution_count": 375,
   "metadata": {},
   "outputs": [
    {
     "name": "stdout",
     "output_type": "stream",
     "text": [
      "root\n",
      " |-- code: string (nullable = true)\n",
      " |-- country_code: string (nullable = true)\n",
      " |-- date8: string (nullable = true)\n",
      " |-- day: string (nullable = true)\n",
      " |-- geoname: string (nullable = true)\n",
      " |-- goldstein: double (nullable = true)\n",
      " |-- latitude: double (nullable = true)\n",
      " |-- longitude: double (nullable = true)\n",
      " |-- month: string (nullable = true)\n",
      " |-- quad_class: long (nullable = true)\n",
      " |-- root_code: string (nullable = true)\n",
      " |-- source: string (nullable = true)\n",
      " |-- src_actor: string (nullable = true)\n",
      " |-- tgt_actor: string (nullable = true)\n",
      " |-- year: string (nullable = true)\n",
      "\n"
     ]
    }
   ],
   "source": [
    "eventsDF.printSchema()"
   ]
  },
  {
   "cell_type": "markdown",
   "metadata": {},
   "source": [
    "# Drop columns which might not be useful\n"
   ]
  },
  {
   "cell_type": "code",
   "execution_count": 106,
   "metadata": {},
   "outputs": [],
   "source": [
    "eventsDF = eventsDF.drop('date8_val')\n",
    "eventsDF = eventsDF.drop('id')\n",
    "eventsDF = eventsDF.drop('_id')\n",
    "eventsDF = eventsDF.drop('url')\n",
    "eventsDF = eventsDF.drop('_id')\n",
    "eventsDF = eventsDF.drop('src_agent')\n",
    "eventsDF = eventsDF.drop('src_other_agent')\n",
    "eventsDF = eventsDF.drop('target')\n",
    "eventsDF = eventsDF.drop('tgt_agent')\n",
    "eventsDF = eventsDF.drop('tgt_other_agent')\n",
    "eventsDF = eventsDF.drop('source_text')"
   ]
  },
  {
   "cell_type": "code",
   "execution_count": 107,
   "metadata": {},
   "outputs": [
    {
     "name": "stdout",
     "output_type": "stream",
     "text": [
      "+----+------------+--------+----+--------------------+---------+--------+----------+-----+----------+---------+------+---------+---------+----+\n",
      "|code|country_code|   date8| day|             geoname|goldstein|latitude| longitude|month|quad_class|root_code|source|src_actor|tgt_actor|year|\n",
      "+----+------------+--------+----+--------------------+---------+--------+----------+-----+----------+---------+------+---------+---------+----+\n",
      "| 060|         UKR|20181012|  12|            Ukraine |      6.0|    49.0|      32.0|   10|         2|       06|   RUS|      RUS|         |2018|\n",
      "| 030|         RUS|20181012|  12| Russian Federation |      4.0|    60.0|     100.0|   10|         1|       03|RUSGOV|      RUS|         |2018|\n",
      "| 010|         CHN|20181012|  12| Beijing Beijing Shi|      0.0| 39.9075| 116.39723|   10|         0|       01|---GOV|         |      CHN|2018|\n",
      "| 030|         CHN|20181012|  12|            Taishan |      4.0|22.25135|  112.7799|   10|         1|       03|   USA|      USA|      USA|2018|\n",
      "| 160|         HKG|20181012|  12|          Hong Kong |     -4.0|22.27832| 114.17469|   10|         3|       16|USAGOV|      USA|      HKG|2018|\n",
      "|null|        null|    null|null|                null|     null|    null|      null| null|      null|     null|  null|     null|     null|null|\n",
      "| 100|         TUR|20181012|  12|   Istanbul İstanbul|     -5.0|41.01384|  28.94966|   10|         3|       10|---MED|         |      SAU|2018|\n",
      "| 100|         TUR|20181012|  12| Republic of Turkey |     -5.0|    39.0|      35.0|   10|         3|       10|   TUR|      TUR|      SAU|2018|\n",
      "|null|        null|    null|null|                null|     null|    null|      null| null|      null|     null|  null|     null|     null|null|\n",
      "|null|        null|    null|null|                null|     null|    null|      null| null|      null|     null|  null|     null|     null|null|\n",
      "|null|        null|    null|null|                null|     null|    null|      null| null|      null|     null|  null|     null|     null|null|\n",
      "| 174|         USA|20181012|  12|  Vero Beach Florida|     -5.0|27.63864| -80.39727|   10|         4|       17|---MIL|         |         |2018|\n",
      "| 051|         NGA|20181012|  12|       Anambra State|      3.4| 6.33333|       7.0|   10|         1|       05|   AUS|      AUS|         |2018|\n",
      "| 036|         NGA|20181012|  12|Abuja Federal Cap...|      4.0| 9.05785|   7.49508|   10|         1|       03|   NGA|      NGA|         |2018|\n",
      "|null|        null|    null|null|                null|     null|    null|      null| null|      null|     null|  null|     null|     null|null|\n",
      "| 171|         GBR|20181012|  12|             England|     -9.2|52.16045|  -0.70312|   10|         4|       17|INDMED|      IND|      GBR|2018|\n",
      "|null|        null|    null|null|                null|     null|    null|      null| null|      null|     null|  null|     null|     null|null|\n",
      "| 084|         USA|20181012|  12|    Las Vegas Nevada|      7.0|36.17497|-115.13722|   10|         2|       08|USAGOV|      USA|      USA|2018|\n",
      "| 190|         NGA|20181012|  12| Sokoto Sokoto State|    -10.0|13.06269|   5.24322|   10|         4|       19|NGAGOV|      NGA|      NGA|2018|\n",
      "| 171|         USA|20181012|  12| Calexico California|     -9.2|32.67895|-115.49888|   10|         4|       17|USALAB|      USA|         |2018|\n",
      "+----+------------+--------+----+--------------------+---------+--------+----------+-----+----------+---------+------+---------+---------+----+\n",
      "only showing top 20 rows\n",
      "\n"
     ]
    }
   ],
   "source": [
    "eventsDF.show()"
   ]
  },
  {
   "cell_type": "code",
   "execution_count": 108,
   "metadata": {},
   "outputs": [
    {
     "data": {
      "text/plain": [
       "27231"
      ]
     },
     "execution_count": 108,
     "metadata": {},
     "output_type": "execute_result"
    }
   ],
   "source": [
    "eventsDF.count()\n"
   ]
  },
  {
   "cell_type": "markdown",
   "metadata": {},
   "source": [
    "# Remove NA values"
   ]
  },
  {
   "cell_type": "code",
   "execution_count": 109,
   "metadata": {},
   "outputs": [],
   "source": [
    "# import pyspark.sql.*\n",
    "# DataFrameNaFunctions.drop()\n",
    "# eventsDF.dropna()\n",
    "eventsDF = eventsDF.na.drop()"
   ]
  },
  {
   "cell_type": "code",
   "execution_count": 110,
   "metadata": {},
   "outputs": [
    {
     "data": {
      "text/plain": [
       "19920"
      ]
     },
     "execution_count": 110,
     "metadata": {},
     "output_type": "execute_result"
    }
   ],
   "source": [
    "eventsDF.count()"
   ]
  },
  {
   "cell_type": "code",
   "execution_count": 104,
   "metadata": {},
   "outputs": [
    {
     "name": "stdout",
     "output_type": "stream",
     "text": [
      "+----+------------+--------+---+--------+---------+--------+---------+-----+----------+---------+------+-----------+---------+---------+----+\n",
      "|code|country_code|   date8|day| geoname|goldstein|latitude|longitude|month|quad_class|root_code|source|source_text|src_actor|tgt_actor|year|\n",
      "+----+------------+--------+---+--------+---------+--------+---------+-----+----------+---------+------+-----------+---------+---------+----+\n",
      "| 060|         UKR|20181012| 12|Ukraine |      6.0|    49.0|     32.0|   10|         2|       06|   RUS|        bbc|      RUS|         |2018|\n",
      "+----+------------+--------+---+--------+---------+--------+---------+-----+----------+---------+------+-----------+---------+---------+----+\n",
      "only showing top 1 row\n",
      "\n"
     ]
    }
   ],
   "source": [
    "eventsDF.show(1)"
   ]
  },
  {
   "cell_type": "markdown",
   "metadata": {},
   "source": [
    "# Encode strings"
   ]
  },
  {
   "cell_type": "code",
   "execution_count": 126,
   "metadata": {},
   "outputs": [
    {
     "name": "stdout",
     "output_type": "stream",
     "text": [
      "+----+------------+--------+---+--------------------+---------+--------+----------+-----+----------+---------+------+---------+---------+----+-----------+\n",
      "|code|country_code|   date8|day|             geoname|goldstein|latitude| longitude|month|quad_class|root_code|source|src_actor|tgt_actor|year|country_idx|\n",
      "+----+------------+--------+---+--------------------+---------+--------+----------+-----+----------+---------+------+---------+---------+----+-----------+\n",
      "| 060|         UKR|20181012| 12|            Ukraine |      6.0|    49.0|      32.0|   10|         2|       06|   RUS|      RUS|         |2018|       44.0|\n",
      "| 030|         RUS|20181012| 12| Russian Federation |      4.0|    60.0|     100.0|   10|         1|       03|RUSGOV|      RUS|         |2018|        9.0|\n",
      "| 010|         CHN|20181012| 12| Beijing Beijing Shi|      0.0| 39.9075| 116.39723|   10|         0|       01|---GOV|         |      CHN|2018|        6.0|\n",
      "| 030|         CHN|20181012| 12|            Taishan |      4.0|22.25135|  112.7799|   10|         1|       03|   USA|      USA|      USA|2018|        6.0|\n",
      "| 160|         HKG|20181012| 12|          Hong Kong |     -4.0|22.27832| 114.17469|   10|         3|       16|USAGOV|      USA|      HKG|2018|       25.0|\n",
      "| 100|         TUR|20181012| 12|   Istanbul İstanbul|     -5.0|41.01384|  28.94966|   10|         3|       10|---MED|         |      SAU|2018|        3.0|\n",
      "| 100|         TUR|20181012| 12| Republic of Turkey |     -5.0|    39.0|      35.0|   10|         3|       10|   TUR|      TUR|      SAU|2018|        3.0|\n",
      "| 174|         USA|20181012| 12|  Vero Beach Florida|     -5.0|27.63864| -80.39727|   10|         4|       17|---MIL|         |         |2018|        0.0|\n",
      "| 051|         NGA|20181012| 12|       Anambra State|      3.4| 6.33333|       7.0|   10|         1|       05|   AUS|      AUS|         |2018|        7.0|\n",
      "| 036|         NGA|20181012| 12|Abuja Federal Cap...|      4.0| 9.05785|   7.49508|   10|         1|       03|   NGA|      NGA|         |2018|        7.0|\n",
      "| 171|         GBR|20181012| 12|             England|     -9.2|52.16045|  -0.70312|   10|         4|       17|INDMED|      IND|      GBR|2018|        5.0|\n",
      "| 084|         USA|20181012| 12|    Las Vegas Nevada|      7.0|36.17497|-115.13722|   10|         2|       08|USAGOV|      USA|      USA|2018|        0.0|\n",
      "| 190|         NGA|20181012| 12| Sokoto Sokoto State|    -10.0|13.06269|   5.24322|   10|         4|       19|NGAGOV|      NGA|      NGA|2018|        7.0|\n",
      "| 171|         USA|20181012| 12| Calexico California|     -9.2|32.67895|-115.49888|   10|         4|       17|USALAB|      USA|         |2018|        0.0|\n",
      "| 020|         IND|20181012| 12|           Guwahati |      3.0| 26.1844|   91.7458|   10|         0|       02|---JUD|         |      IND|2018|        1.0|\n",
      "| 020|         DEU|20181012| 12|Federal Republic ...|      3.0|    51.5|      10.5|   10|         0|       02|---MED|         |         |2018|       10.0|\n",
      "|0231|         USA|20181012| 12|         Washington |      3.4|37.13054|-113.50829|   10|         0|       02|   USA|      USA|      USA|2018|        0.0|\n",
      "| 060|         IND|20181012| 12|  State of Karnataka|      6.0|14.66667|  75.83333|   10|         2|       06|INDJUD|      IND|         |2018|        1.0|\n",
      "| 010|         ITA|20181012| 12|     Milan Lombardia|      0.0|45.46427|   9.18951|   10|         0|       01|   ITA|      ITA|         |2018|       19.0|\n",
      "| 010|         TUR|20181012| 12|   Istanbul İstanbul|      0.0|41.01384|  28.94966|   10|         0|       01|TURGOV|      TUR|      USA|2018|        3.0|\n",
      "+----+------------+--------+---+--------------------+---------+--------+----------+-----+----------+---------+------+---------+---------+----+-----------+\n",
      "only showing top 20 rows\n",
      "\n"
     ]
    }
   ],
   "source": [
    "from pyspark.ml.feature import StringIndexer\n",
    "indexer = StringIndexer(inputCol=\"country_code\", outputCol=\"country_idx\")\n",
    "indexed = indexer.fit(eventsDF).transform(eventsDF)\n",
    "indexed.show()"
   ]
  },
  {
   "cell_type": "code",
   "execution_count": 127,
   "metadata": {},
   "outputs": [],
   "source": [
    "from pyspark.ml.feature import OneHotEncoderEstimator"
   ]
  },
  {
   "cell_type": "code",
   "execution_count": 128,
   "metadata": {},
   "outputs": [
    {
     "name": "stdout",
     "output_type": "stream",
     "text": [
      "+----+------------+--------+---+--------------------+---------+--------+----------+-----+----------+---------+------+---------+---------+----+-----------+------+\n",
      "|code|country_code|   date8|day|             geoname|goldstein|latitude| longitude|month|quad_class|root_code|source|src_actor|tgt_actor|year|country_idx| gname|\n",
      "+----+------------+--------+---+--------------------+---------+--------+----------+-----+----------+---------+------+---------+---------+----+-----------+------+\n",
      "| 060|         UKR|20181012| 12|            Ukraine |      6.0|    49.0|      32.0|   10|         2|       06|   RUS|      RUS|         |2018|       44.0| 129.0|\n",
      "| 030|         RUS|20181012| 12| Russian Federation |      4.0|    60.0|     100.0|   10|         1|       03|RUSGOV|      RUS|         |2018|        9.0|  22.0|\n",
      "| 010|         CHN|20181012| 12| Beijing Beijing Shi|      0.0| 39.9075| 116.39723|   10|         0|       01|---GOV|         |      CHN|2018|        6.0|   7.0|\n",
      "| 030|         CHN|20181012| 12|            Taishan |      4.0|22.25135|  112.7799|   10|         1|       03|   USA|      USA|      USA|2018|        6.0|1497.0|\n",
      "| 160|         HKG|20181012| 12|          Hong Kong |     -4.0|22.27832| 114.17469|   10|         3|       16|USAGOV|      USA|      HKG|2018|       25.0|  94.0|\n",
      "| 100|         TUR|20181012| 12|   Istanbul İstanbul|     -5.0|41.01384|  28.94966|   10|         3|       10|---MED|         |      SAU|2018|        3.0|   2.0|\n",
      "| 100|         TUR|20181012| 12| Republic of Turkey |     -5.0|    39.0|      35.0|   10|         3|       10|   TUR|      TUR|      SAU|2018|        3.0|  23.0|\n",
      "| 174|         USA|20181012| 12|  Vero Beach Florida|     -5.0|27.63864| -80.39727|   10|         4|       17|---MIL|         |         |2018|        0.0| 710.0|\n",
      "| 051|         NGA|20181012| 12|       Anambra State|      3.4| 6.33333|       7.0|   10|         1|       05|   AUS|      AUS|         |2018|        7.0| 482.0|\n",
      "| 036|         NGA|20181012| 12|Abuja Federal Cap...|      4.0| 9.05785|   7.49508|   10|         1|       03|   NGA|      NGA|         |2018|        7.0|  28.0|\n",
      "| 171|         GBR|20181012| 12|             England|     -9.2|52.16045|  -0.70312|   10|         4|       17|INDMED|      IND|      GBR|2018|        5.0|  46.0|\n",
      "| 084|         USA|20181012| 12|    Las Vegas Nevada|      7.0|36.17497|-115.13722|   10|         2|       08|USAGOV|      USA|      USA|2018|        0.0|  48.0|\n",
      "| 190|         NGA|20181012| 12| Sokoto Sokoto State|    -10.0|13.06269|   5.24322|   10|         4|       19|NGAGOV|      NGA|      NGA|2018|        7.0| 314.0|\n",
      "| 171|         USA|20181012| 12| Calexico California|     -9.2|32.67895|-115.49888|   10|         4|       17|USALAB|      USA|         |2018|        0.0|1541.0|\n",
      "| 020|         IND|20181012| 12|           Guwahati |      3.0| 26.1844|   91.7458|   10|         0|       02|---JUD|         |      IND|2018|        1.0|1865.0|\n",
      "| 020|         DEU|20181012| 12|Federal Republic ...|      3.0|    51.5|      10.5|   10|         0|       02|---MED|         |         |2018|       10.0|  56.0|\n",
      "|0231|         USA|20181012| 12|         Washington |      3.4|37.13054|-113.50829|   10|         0|       02|   USA|      USA|      USA|2018|        0.0|  67.0|\n",
      "| 060|         IND|20181012| 12|  State of Karnataka|      6.0|14.66667|  75.83333|   10|         2|       06|INDJUD|      IND|         |2018|        1.0| 301.0|\n",
      "| 010|         ITA|20181012| 12|     Milan Lombardia|      0.0|45.46427|   9.18951|   10|         0|       01|   ITA|      ITA|         |2018|       19.0| 100.0|\n",
      "| 010|         TUR|20181012| 12|   Istanbul İstanbul|      0.0|41.01384|  28.94966|   10|         0|       01|TURGOV|      TUR|      USA|2018|        3.0|   2.0|\n",
      "+----+------------+--------+---+--------------------+---------+--------+----------+-----+----------+---------+------+---------+---------+----+-----------+------+\n",
      "only showing top 20 rows\n",
      "\n"
     ]
    }
   ],
   "source": [
    "indexer = StringIndexer(inputCol=\"geoname\", outputCol=\"gname\")\n",
    "indexed = indexer.fit(indexed).transform(indexed)\n",
    "indexed.show()"
   ]
  },
  {
   "cell_type": "code",
   "execution_count": 129,
   "metadata": {},
   "outputs": [
    {
     "name": "stdout",
     "output_type": "stream",
     "text": [
      "+----+------------+--------+---+--------------------+---------+--------+----------+-----+----------+---------+------+---------+---------+----+-----------+------+-----+\n",
      "|code|country_code|   date8|day|             geoname|goldstein|latitude| longitude|month|quad_class|root_code|source|src_actor|tgt_actor|year|country_idx| gname|  src|\n",
      "+----+------------+--------+---+--------------------+---------+--------+----------+-----+----------+---------+------+---------+---------+----+-----------+------+-----+\n",
      "| 060|         UKR|20181012| 12|            Ukraine |      6.0|    49.0|      32.0|   10|         2|       06|   RUS|      RUS|         |2018|       44.0| 129.0| 21.0|\n",
      "| 030|         RUS|20181012| 12| Russian Federation |      4.0|    60.0|     100.0|   10|         1|       03|RUSGOV|      RUS|         |2018|        9.0|  22.0| 34.0|\n",
      "| 010|         CHN|20181012| 12| Beijing Beijing Shi|      0.0| 39.9075| 116.39723|   10|         0|       01|---GOV|         |      CHN|2018|        6.0|   7.0|  0.0|\n",
      "| 030|         CHN|20181012| 12|            Taishan |      4.0|22.25135|  112.7799|   10|         1|       03|   USA|      USA|      USA|2018|        6.0|1497.0|  1.0|\n",
      "| 160|         HKG|20181012| 12|          Hong Kong |     -4.0|22.27832| 114.17469|   10|         3|       16|USAGOV|      USA|      HKG|2018|       25.0|  94.0|  2.0|\n",
      "| 100|         TUR|20181012| 12|   Istanbul İstanbul|     -5.0|41.01384|  28.94966|   10|         3|       10|---MED|         |      SAU|2018|        3.0|   2.0| 13.0|\n",
      "| 100|         TUR|20181012| 12| Republic of Turkey |     -5.0|    39.0|      35.0|   10|         3|       10|   TUR|      TUR|      SAU|2018|        3.0|  23.0|  6.0|\n",
      "| 174|         USA|20181012| 12|  Vero Beach Florida|     -5.0|27.63864| -80.39727|   10|         4|       17|---MIL|         |         |2018|        0.0| 710.0| 19.0|\n",
      "| 051|         NGA|20181012| 12|       Anambra State|      3.4| 6.33333|       7.0|   10|         1|       05|   AUS|      AUS|         |2018|        7.0| 482.0| 49.0|\n",
      "| 036|         NGA|20181012| 12|Abuja Federal Cap...|      4.0| 9.05785|   7.49508|   10|         1|       03|   NGA|      NGA|         |2018|        7.0|  28.0| 52.0|\n",
      "| 171|         GBR|20181012| 12|             England|     -9.2|52.16045|  -0.70312|   10|         4|       17|INDMED|      IND|      GBR|2018|        5.0|  46.0|344.0|\n",
      "| 084|         USA|20181012| 12|    Las Vegas Nevada|      7.0|36.17497|-115.13722|   10|         2|       08|USAGOV|      USA|      USA|2018|        0.0|  48.0|  2.0|\n",
      "| 190|         NGA|20181012| 12| Sokoto Sokoto State|    -10.0|13.06269|   5.24322|   10|         4|       19|NGAGOV|      NGA|      NGA|2018|        7.0| 314.0|114.0|\n",
      "| 171|         USA|20181012| 12| Calexico California|     -9.2|32.67895|-115.49888|   10|         4|       17|USALAB|      USA|         |2018|        0.0|1541.0|207.0|\n",
      "| 020|         IND|20181012| 12|           Guwahati |      3.0| 26.1844|   91.7458|   10|         0|       02|---JUD|         |      IND|2018|        1.0|1865.0|  4.0|\n",
      "| 020|         DEU|20181012| 12|Federal Republic ...|      3.0|    51.5|      10.5|   10|         0|       02|---MED|         |         |2018|       10.0|  56.0| 13.0|\n",
      "|0231|         USA|20181012| 12|         Washington |      3.4|37.13054|-113.50829|   10|         0|       02|   USA|      USA|      USA|2018|        0.0|  67.0|  1.0|\n",
      "| 060|         IND|20181012| 12|  State of Karnataka|      6.0|14.66667|  75.83333|   10|         2|       06|INDJUD|      IND|         |2018|        1.0| 301.0| 69.0|\n",
      "| 010|         ITA|20181012| 12|     Milan Lombardia|      0.0|45.46427|   9.18951|   10|         0|       01|   ITA|      ITA|         |2018|       19.0| 100.0| 75.0|\n",
      "| 010|         TUR|20181012| 12|   Istanbul İstanbul|      0.0|41.01384|  28.94966|   10|         0|       01|TURGOV|      TUR|      USA|2018|        3.0|   2.0| 14.0|\n",
      "+----+------------+--------+---+--------------------+---------+--------+----------+-----+----------+---------+------+---------+---------+----+-----------+------+-----+\n",
      "only showing top 20 rows\n",
      "\n"
     ]
    }
   ],
   "source": [
    "indexer = StringIndexer(inputCol=\"source\", outputCol=\"src\")\n",
    "indexed = indexer.fit(indexed).transform(indexed)\n",
    "indexed.show()"
   ]
  },
  {
   "cell_type": "code",
   "execution_count": 130,
   "metadata": {},
   "outputs": [
    {
     "name": "stdout",
     "output_type": "stream",
     "text": [
      "+----+------------+--------+---+--------------------+---------+--------+----------+-----+----------+---------+------+---------+---------+----+-----------+------+-----+-----------+\n",
      "|code|country_code|   date8|day|             geoname|goldstein|latitude| longitude|month|quad_class|root_code|source|src_actor|tgt_actor|year|country_idx| gname|  src|src_act_idx|\n",
      "+----+------------+--------+---+--------------------+---------+--------+----------+-----+----------+---------+------+---------+---------+----+-----------+------+-----+-----------+\n",
      "| 060|         UKR|20181012| 12|            Ukraine |      6.0|    49.0|      32.0|   10|         2|       06|   RUS|      RUS|         |2018|       44.0| 129.0| 21.0|        9.0|\n",
      "| 030|         RUS|20181012| 12| Russian Federation |      4.0|    60.0|     100.0|   10|         1|       03|RUSGOV|      RUS|         |2018|        9.0|  22.0| 34.0|        9.0|\n",
      "| 010|         CHN|20181012| 12| Beijing Beijing Shi|      0.0| 39.9075| 116.39723|   10|         0|       01|---GOV|         |      CHN|2018|        6.0|   7.0|  0.0|        0.0|\n",
      "| 030|         CHN|20181012| 12|            Taishan |      4.0|22.25135|  112.7799|   10|         1|       03|   USA|      USA|      USA|2018|        6.0|1497.0|  1.0|        1.0|\n",
      "| 160|         HKG|20181012| 12|          Hong Kong |     -4.0|22.27832| 114.17469|   10|         3|       16|USAGOV|      USA|      HKG|2018|       25.0|  94.0|  2.0|        1.0|\n",
      "| 100|         TUR|20181012| 12|   Istanbul İstanbul|     -5.0|41.01384|  28.94966|   10|         3|       10|---MED|         |      SAU|2018|        3.0|   2.0| 13.0|        0.0|\n",
      "| 100|         TUR|20181012| 12| Republic of Turkey |     -5.0|    39.0|      35.0|   10|         3|       10|   TUR|      TUR|      SAU|2018|        3.0|  23.0|  6.0|        2.0|\n",
      "| 174|         USA|20181012| 12|  Vero Beach Florida|     -5.0|27.63864| -80.39727|   10|         4|       17|---MIL|         |         |2018|        0.0| 710.0| 19.0|        0.0|\n",
      "| 051|         NGA|20181012| 12|       Anambra State|      3.4| 6.33333|       7.0|   10|         1|       05|   AUS|      AUS|         |2018|        7.0| 482.0| 49.0|       23.0|\n",
      "| 036|         NGA|20181012| 12|Abuja Federal Cap...|      4.0| 9.05785|   7.49508|   10|         1|       03|   NGA|      NGA|         |2018|        7.0|  28.0| 52.0|       12.0|\n",
      "| 171|         GBR|20181012| 12|             England|     -9.2|52.16045|  -0.70312|   10|         4|       17|INDMED|      IND|      GBR|2018|        5.0|  46.0|344.0|        4.0|\n",
      "| 084|         USA|20181012| 12|    Las Vegas Nevada|      7.0|36.17497|-115.13722|   10|         2|       08|USAGOV|      USA|      USA|2018|        0.0|  48.0|  2.0|        1.0|\n",
      "| 190|         NGA|20181012| 12| Sokoto Sokoto State|    -10.0|13.06269|   5.24322|   10|         4|       19|NGAGOV|      NGA|      NGA|2018|        7.0| 314.0|114.0|       12.0|\n",
      "| 171|         USA|20181012| 12| Calexico California|     -9.2|32.67895|-115.49888|   10|         4|       17|USALAB|      USA|         |2018|        0.0|1541.0|207.0|        1.0|\n",
      "| 020|         IND|20181012| 12|           Guwahati |      3.0| 26.1844|   91.7458|   10|         0|       02|---JUD|         |      IND|2018|        1.0|1865.0|  4.0|        0.0|\n",
      "| 020|         DEU|20181012| 12|Federal Republic ...|      3.0|    51.5|      10.5|   10|         0|       02|---MED|         |         |2018|       10.0|  56.0| 13.0|        0.0|\n",
      "|0231|         USA|20181012| 12|         Washington |      3.4|37.13054|-113.50829|   10|         0|       02|   USA|      USA|      USA|2018|        0.0|  67.0|  1.0|        1.0|\n",
      "| 060|         IND|20181012| 12|  State of Karnataka|      6.0|14.66667|  75.83333|   10|         2|       06|INDJUD|      IND|         |2018|        1.0| 301.0| 69.0|        4.0|\n",
      "| 010|         ITA|20181012| 12|     Milan Lombardia|      0.0|45.46427|   9.18951|   10|         0|       01|   ITA|      ITA|         |2018|       19.0| 100.0| 75.0|       22.0|\n",
      "| 010|         TUR|20181012| 12|   Istanbul İstanbul|      0.0|41.01384|  28.94966|   10|         0|       01|TURGOV|      TUR|      USA|2018|        3.0|   2.0| 14.0|        2.0|\n",
      "+----+------------+--------+---+--------------------+---------+--------+----------+-----+----------+---------+------+---------+---------+----+-----------+------+-----+-----------+\n",
      "only showing top 20 rows\n",
      "\n"
     ]
    }
   ],
   "source": [
    "indexer = StringIndexer(inputCol=\"src_actor\", outputCol=\"src_act_idx\")\n",
    "indexed = indexer.fit(indexed).transform(indexed)\n",
    "indexed.show()"
   ]
  },
  {
   "cell_type": "code",
   "execution_count": null,
   "metadata": {},
   "outputs": [],
   "source": [
    "# ,\"geoname\",\"source\",\"src_actor\"     ,\"gname\",\"src\",\"src_act_idx\""
   ]
  },
  {
   "cell_type": "code",
   "execution_count": 140,
   "metadata": {},
   "outputs": [
    {
     "name": "stdout",
     "output_type": "stream",
     "text": [
      "+-----------+\n",
      "|src_act_idx|\n",
      "+-----------+\n",
      "|      147.0|\n",
      "|      160.0|\n",
      "|        8.0|\n",
      "|       67.0|\n",
      "|       70.0|\n",
      "|        0.0|\n",
      "|       69.0|\n",
      "|        7.0|\n",
      "|      142.0|\n",
      "|      154.0|\n",
      "|      112.0|\n",
      "|      124.0|\n",
      "|      128.0|\n",
      "|      108.0|\n",
      "|      133.0|\n",
      "|       88.0|\n",
      "|       49.0|\n",
      "|      155.0|\n",
      "|      101.0|\n",
      "|      116.0|\n",
      "+-----------+\n",
      "only showing top 20 rows\n",
      "\n"
     ]
    }
   ],
   "source": [
    "indexed.select(\"src_act_idx\").distinct().show()"
   ]
  },
  {
   "cell_type": "code",
   "execution_count": 143,
   "metadata": {},
   "outputs": [
    {
     "data": {
      "text/plain": [
       "19920"
      ]
     },
     "execution_count": 143,
     "metadata": {},
     "output_type": "execute_result"
    }
   ],
   "source": [
    "indexed = indexed.na.drop()\n",
    "indexed.count()"
   ]
  },
  {
   "cell_type": "markdown",
   "metadata": {},
   "source": [
    "# One hot encoding"
   ]
  },
  {
   "cell_type": "code",
   "execution_count": 156,
   "metadata": {},
   "outputs": [],
   "source": [
    "from pyspark.ml.feature import OneHotEncoderEstimator\n",
    "encoder = OneHotEncoderEstimator(inputCols=[\"country_idx\"],\n",
    "                                 outputCols=[\"country_vec\"])\n"
   ]
  },
  {
   "cell_type": "code",
   "execution_count": 157,
   "metadata": {},
   "outputs": [],
   "source": [
    "from pyspark.sql import SQLContext\n",
    "#from pyspark.mllib.linalg import Vectors\n",
    "from pyspark.ml.linalg import Vectors, VectorUDT\n",
    "model = encoder.fit(indexed)\n"
   ]
  },
  {
   "cell_type": "code",
   "execution_count": 158,
   "metadata": {},
   "outputs": [
    {
     "name": "stdout",
     "output_type": "stream",
     "text": [
      "+----+------------+--------+---+--------------------+---------+--------+----------+-----+----------+---------+------+---------+---------+----+-----------+------+-----+-----------+----------------+\n",
      "|code|country_code|   date8|day|             geoname|goldstein|latitude| longitude|month|quad_class|root_code|source|src_actor|tgt_actor|year|country_idx| gname|  src|src_act_idx|     country_vec|\n",
      "+----+------------+--------+---+--------------------+---------+--------+----------+-----+----------+---------+------+---------+---------+----+-----------+------+-----+-----------+----------------+\n",
      "| 060|         UKR|20181012| 12|            Ukraine |      6.0|    49.0|      32.0|   10|         2|       06|   RUS|      RUS|         |2018|       44.0| 129.0| 21.0|        9.0|(177,[44],[1.0])|\n",
      "| 030|         RUS|20181012| 12| Russian Federation |      4.0|    60.0|     100.0|   10|         1|       03|RUSGOV|      RUS|         |2018|        9.0|  22.0| 34.0|        9.0| (177,[9],[1.0])|\n",
      "| 010|         CHN|20181012| 12| Beijing Beijing Shi|      0.0| 39.9075| 116.39723|   10|         0|       01|---GOV|         |      CHN|2018|        6.0|   7.0|  0.0|        0.0| (177,[6],[1.0])|\n",
      "| 030|         CHN|20181012| 12|            Taishan |      4.0|22.25135|  112.7799|   10|         1|       03|   USA|      USA|      USA|2018|        6.0|1497.0|  1.0|        1.0| (177,[6],[1.0])|\n",
      "| 160|         HKG|20181012| 12|          Hong Kong |     -4.0|22.27832| 114.17469|   10|         3|       16|USAGOV|      USA|      HKG|2018|       25.0|  94.0|  2.0|        1.0|(177,[25],[1.0])|\n",
      "| 100|         TUR|20181012| 12|   Istanbul İstanbul|     -5.0|41.01384|  28.94966|   10|         3|       10|---MED|         |      SAU|2018|        3.0|   2.0| 13.0|        0.0| (177,[3],[1.0])|\n",
      "| 100|         TUR|20181012| 12| Republic of Turkey |     -5.0|    39.0|      35.0|   10|         3|       10|   TUR|      TUR|      SAU|2018|        3.0|  23.0|  6.0|        2.0| (177,[3],[1.0])|\n",
      "| 174|         USA|20181012| 12|  Vero Beach Florida|     -5.0|27.63864| -80.39727|   10|         4|       17|---MIL|         |         |2018|        0.0| 710.0| 19.0|        0.0| (177,[0],[1.0])|\n",
      "| 051|         NGA|20181012| 12|       Anambra State|      3.4| 6.33333|       7.0|   10|         1|       05|   AUS|      AUS|         |2018|        7.0| 482.0| 49.0|       23.0| (177,[7],[1.0])|\n",
      "| 036|         NGA|20181012| 12|Abuja Federal Cap...|      4.0| 9.05785|   7.49508|   10|         1|       03|   NGA|      NGA|         |2018|        7.0|  28.0| 52.0|       12.0| (177,[7],[1.0])|\n",
      "| 171|         GBR|20181012| 12|             England|     -9.2|52.16045|  -0.70312|   10|         4|       17|INDMED|      IND|      GBR|2018|        5.0|  46.0|344.0|        4.0| (177,[5],[1.0])|\n",
      "| 084|         USA|20181012| 12|    Las Vegas Nevada|      7.0|36.17497|-115.13722|   10|         2|       08|USAGOV|      USA|      USA|2018|        0.0|  48.0|  2.0|        1.0| (177,[0],[1.0])|\n",
      "| 190|         NGA|20181012| 12| Sokoto Sokoto State|    -10.0|13.06269|   5.24322|   10|         4|       19|NGAGOV|      NGA|      NGA|2018|        7.0| 314.0|114.0|       12.0| (177,[7],[1.0])|\n",
      "| 171|         USA|20181012| 12| Calexico California|     -9.2|32.67895|-115.49888|   10|         4|       17|USALAB|      USA|         |2018|        0.0|1541.0|207.0|        1.0| (177,[0],[1.0])|\n",
      "| 020|         IND|20181012| 12|           Guwahati |      3.0| 26.1844|   91.7458|   10|         0|       02|---JUD|         |      IND|2018|        1.0|1865.0|  4.0|        0.0| (177,[1],[1.0])|\n",
      "| 020|         DEU|20181012| 12|Federal Republic ...|      3.0|    51.5|      10.5|   10|         0|       02|---MED|         |         |2018|       10.0|  56.0| 13.0|        0.0|(177,[10],[1.0])|\n",
      "|0231|         USA|20181012| 12|         Washington |      3.4|37.13054|-113.50829|   10|         0|       02|   USA|      USA|      USA|2018|        0.0|  67.0|  1.0|        1.0| (177,[0],[1.0])|\n",
      "| 060|         IND|20181012| 12|  State of Karnataka|      6.0|14.66667|  75.83333|   10|         2|       06|INDJUD|      IND|         |2018|        1.0| 301.0| 69.0|        4.0| (177,[1],[1.0])|\n",
      "| 010|         ITA|20181012| 12|     Milan Lombardia|      0.0|45.46427|   9.18951|   10|         0|       01|   ITA|      ITA|         |2018|       19.0| 100.0| 75.0|       22.0|(177,[19],[1.0])|\n",
      "| 010|         TUR|20181012| 12|   Istanbul İstanbul|      0.0|41.01384|  28.94966|   10|         0|       01|TURGOV|      TUR|      USA|2018|        3.0|   2.0| 14.0|        2.0| (177,[3],[1.0])|\n",
      "+----+------------+--------+---+--------------------+---------+--------+----------+-----+----------+---------+------+---------+---------+----+-----------+------+-----+-----------+----------------+\n",
      "only showing top 20 rows\n",
      "\n"
     ]
    }
   ],
   "source": [
    "encoded = model.transform(indexed)\n",
    "encoded.show()"
   ]
  },
  {
   "cell_type": "code",
   "execution_count": 159,
   "metadata": {},
   "outputs": [
    {
     "name": "stdout",
     "output_type": "stream",
     "text": [
      "+----+------------+--------+---+--------------------+---------+--------+----------+-----+----------+---------+------+---------+---------+----+-----------+------+-----+-----------+----------------+-------------------+\n",
      "|code|country_code|   date8|day|             geoname|goldstein|latitude| longitude|month|quad_class|root_code|source|src_actor|tgt_actor|year|country_idx| gname|  src|src_act_idx|     country_vec|          gname_vec|\n",
      "+----+------------+--------+---+--------------------+---------+--------+----------+-----+----------+---------+------+---------+---------+----+-----------+------+-----+-----------+----------------+-------------------+\n",
      "| 060|         UKR|20181012| 12|            Ukraine |      6.0|    49.0|      32.0|   10|         2|       06|   RUS|      RUS|         |2018|       44.0| 129.0| 21.0|        9.0|(177,[44],[1.0])| (1999,[129],[1.0])|\n",
      "| 030|         RUS|20181012| 12| Russian Federation |      4.0|    60.0|     100.0|   10|         1|       03|RUSGOV|      RUS|         |2018|        9.0|  22.0| 34.0|        9.0| (177,[9],[1.0])|  (1999,[22],[1.0])|\n",
      "| 010|         CHN|20181012| 12| Beijing Beijing Shi|      0.0| 39.9075| 116.39723|   10|         0|       01|---GOV|         |      CHN|2018|        6.0|   7.0|  0.0|        0.0| (177,[6],[1.0])|   (1999,[7],[1.0])|\n",
      "| 030|         CHN|20181012| 12|            Taishan |      4.0|22.25135|  112.7799|   10|         1|       03|   USA|      USA|      USA|2018|        6.0|1497.0|  1.0|        1.0| (177,[6],[1.0])|(1999,[1497],[1.0])|\n",
      "| 160|         HKG|20181012| 12|          Hong Kong |     -4.0|22.27832| 114.17469|   10|         3|       16|USAGOV|      USA|      HKG|2018|       25.0|  94.0|  2.0|        1.0|(177,[25],[1.0])|  (1999,[94],[1.0])|\n",
      "| 100|         TUR|20181012| 12|   Istanbul İstanbul|     -5.0|41.01384|  28.94966|   10|         3|       10|---MED|         |      SAU|2018|        3.0|   2.0| 13.0|        0.0| (177,[3],[1.0])|   (1999,[2],[1.0])|\n",
      "| 100|         TUR|20181012| 12| Republic of Turkey |     -5.0|    39.0|      35.0|   10|         3|       10|   TUR|      TUR|      SAU|2018|        3.0|  23.0|  6.0|        2.0| (177,[3],[1.0])|  (1999,[23],[1.0])|\n",
      "| 174|         USA|20181012| 12|  Vero Beach Florida|     -5.0|27.63864| -80.39727|   10|         4|       17|---MIL|         |         |2018|        0.0| 710.0| 19.0|        0.0| (177,[0],[1.0])| (1999,[710],[1.0])|\n",
      "| 051|         NGA|20181012| 12|       Anambra State|      3.4| 6.33333|       7.0|   10|         1|       05|   AUS|      AUS|         |2018|        7.0| 482.0| 49.0|       23.0| (177,[7],[1.0])| (1999,[482],[1.0])|\n",
      "| 036|         NGA|20181012| 12|Abuja Federal Cap...|      4.0| 9.05785|   7.49508|   10|         1|       03|   NGA|      NGA|         |2018|        7.0|  28.0| 52.0|       12.0| (177,[7],[1.0])|  (1999,[28],[1.0])|\n",
      "| 171|         GBR|20181012| 12|             England|     -9.2|52.16045|  -0.70312|   10|         4|       17|INDMED|      IND|      GBR|2018|        5.0|  46.0|344.0|        4.0| (177,[5],[1.0])|  (1999,[46],[1.0])|\n",
      "| 084|         USA|20181012| 12|    Las Vegas Nevada|      7.0|36.17497|-115.13722|   10|         2|       08|USAGOV|      USA|      USA|2018|        0.0|  48.0|  2.0|        1.0| (177,[0],[1.0])|  (1999,[48],[1.0])|\n",
      "| 190|         NGA|20181012| 12| Sokoto Sokoto State|    -10.0|13.06269|   5.24322|   10|         4|       19|NGAGOV|      NGA|      NGA|2018|        7.0| 314.0|114.0|       12.0| (177,[7],[1.0])| (1999,[314],[1.0])|\n",
      "| 171|         USA|20181012| 12| Calexico California|     -9.2|32.67895|-115.49888|   10|         4|       17|USALAB|      USA|         |2018|        0.0|1541.0|207.0|        1.0| (177,[0],[1.0])|(1999,[1541],[1.0])|\n",
      "| 020|         IND|20181012| 12|           Guwahati |      3.0| 26.1844|   91.7458|   10|         0|       02|---JUD|         |      IND|2018|        1.0|1865.0|  4.0|        0.0| (177,[1],[1.0])|(1999,[1865],[1.0])|\n",
      "| 020|         DEU|20181012| 12|Federal Republic ...|      3.0|    51.5|      10.5|   10|         0|       02|---MED|         |         |2018|       10.0|  56.0| 13.0|        0.0|(177,[10],[1.0])|  (1999,[56],[1.0])|\n",
      "|0231|         USA|20181012| 12|         Washington |      3.4|37.13054|-113.50829|   10|         0|       02|   USA|      USA|      USA|2018|        0.0|  67.0|  1.0|        1.0| (177,[0],[1.0])|  (1999,[67],[1.0])|\n",
      "| 060|         IND|20181012| 12|  State of Karnataka|      6.0|14.66667|  75.83333|   10|         2|       06|INDJUD|      IND|         |2018|        1.0| 301.0| 69.0|        4.0| (177,[1],[1.0])| (1999,[301],[1.0])|\n",
      "| 010|         ITA|20181012| 12|     Milan Lombardia|      0.0|45.46427|   9.18951|   10|         0|       01|   ITA|      ITA|         |2018|       19.0| 100.0| 75.0|       22.0|(177,[19],[1.0])| (1999,[100],[1.0])|\n",
      "| 010|         TUR|20181012| 12|   Istanbul İstanbul|      0.0|41.01384|  28.94966|   10|         0|       01|TURGOV|      TUR|      USA|2018|        3.0|   2.0| 14.0|        2.0| (177,[3],[1.0])|   (1999,[2],[1.0])|\n",
      "+----+------------+--------+---+--------------------+---------+--------+----------+-----+----------+---------+------+---------+---------+----+-----------+------+-----+-----------+----------------+-------------------+\n",
      "only showing top 20 rows\n",
      "\n"
     ]
    }
   ],
   "source": [
    "from pyspark.ml.feature import OneHotEncoderEstimator\n",
    "encoder = OneHotEncoderEstimator(inputCols=[\"gname\"],\n",
    "                                 outputCols=[\"gname_vec\"])\n",
    "from pyspark.sql import SQLContext\n",
    "#from pyspark.mllib.linalg import Vectors\n",
    "from pyspark.ml.linalg import Vectors, VectorUDT\n",
    "model = encoder.fit(encoded)\n",
    "\n",
    "encoded = model.transform(encoded)\n",
    "encoded.show()"
   ]
  },
  {
   "cell_type": "code",
   "execution_count": 160,
   "metadata": {},
   "outputs": [
    {
     "name": "stdout",
     "output_type": "stream",
     "text": [
      "+----+------------+--------+---+--------------------+---------+--------+----------+-----+----------+---------+------+---------+---------+----+-----------+------+-----+-----------+----------------+-------------------+------------------+\n",
      "|code|country_code|   date8|day|             geoname|goldstein|latitude| longitude|month|quad_class|root_code|source|src_actor|tgt_actor|year|country_idx| gname|  src|src_act_idx|     country_vec|          gname_vec|           src_vec|\n",
      "+----+------------+--------+---+--------------------+---------+--------+----------+-----+----------+---------+------+---------+---------+----+-----------+------+-----+-----------+----------------+-------------------+------------------+\n",
      "| 060|         UKR|20181012| 12|            Ukraine |      6.0|    49.0|      32.0|   10|         2|       06|   RUS|      RUS|         |2018|       44.0| 129.0| 21.0|        9.0|(177,[44],[1.0])| (1999,[129],[1.0])| (1386,[21],[1.0])|\n",
      "| 030|         RUS|20181012| 12| Russian Federation |      4.0|    60.0|     100.0|   10|         1|       03|RUSGOV|      RUS|         |2018|        9.0|  22.0| 34.0|        9.0| (177,[9],[1.0])|  (1999,[22],[1.0])| (1386,[34],[1.0])|\n",
      "| 010|         CHN|20181012| 12| Beijing Beijing Shi|      0.0| 39.9075| 116.39723|   10|         0|       01|---GOV|         |      CHN|2018|        6.0|   7.0|  0.0|        0.0| (177,[6],[1.0])|   (1999,[7],[1.0])|  (1386,[0],[1.0])|\n",
      "| 030|         CHN|20181012| 12|            Taishan |      4.0|22.25135|  112.7799|   10|         1|       03|   USA|      USA|      USA|2018|        6.0|1497.0|  1.0|        1.0| (177,[6],[1.0])|(1999,[1497],[1.0])|  (1386,[1],[1.0])|\n",
      "| 160|         HKG|20181012| 12|          Hong Kong |     -4.0|22.27832| 114.17469|   10|         3|       16|USAGOV|      USA|      HKG|2018|       25.0|  94.0|  2.0|        1.0|(177,[25],[1.0])|  (1999,[94],[1.0])|  (1386,[2],[1.0])|\n",
      "| 100|         TUR|20181012| 12|   Istanbul İstanbul|     -5.0|41.01384|  28.94966|   10|         3|       10|---MED|         |      SAU|2018|        3.0|   2.0| 13.0|        0.0| (177,[3],[1.0])|   (1999,[2],[1.0])| (1386,[13],[1.0])|\n",
      "| 100|         TUR|20181012| 12| Republic of Turkey |     -5.0|    39.0|      35.0|   10|         3|       10|   TUR|      TUR|      SAU|2018|        3.0|  23.0|  6.0|        2.0| (177,[3],[1.0])|  (1999,[23],[1.0])|  (1386,[6],[1.0])|\n",
      "| 174|         USA|20181012| 12|  Vero Beach Florida|     -5.0|27.63864| -80.39727|   10|         4|       17|---MIL|         |         |2018|        0.0| 710.0| 19.0|        0.0| (177,[0],[1.0])| (1999,[710],[1.0])| (1386,[19],[1.0])|\n",
      "| 051|         NGA|20181012| 12|       Anambra State|      3.4| 6.33333|       7.0|   10|         1|       05|   AUS|      AUS|         |2018|        7.0| 482.0| 49.0|       23.0| (177,[7],[1.0])| (1999,[482],[1.0])| (1386,[49],[1.0])|\n",
      "| 036|         NGA|20181012| 12|Abuja Federal Cap...|      4.0| 9.05785|   7.49508|   10|         1|       03|   NGA|      NGA|         |2018|        7.0|  28.0| 52.0|       12.0| (177,[7],[1.0])|  (1999,[28],[1.0])| (1386,[52],[1.0])|\n",
      "| 171|         GBR|20181012| 12|             England|     -9.2|52.16045|  -0.70312|   10|         4|       17|INDMED|      IND|      GBR|2018|        5.0|  46.0|344.0|        4.0| (177,[5],[1.0])|  (1999,[46],[1.0])|(1386,[344],[1.0])|\n",
      "| 084|         USA|20181012| 12|    Las Vegas Nevada|      7.0|36.17497|-115.13722|   10|         2|       08|USAGOV|      USA|      USA|2018|        0.0|  48.0|  2.0|        1.0| (177,[0],[1.0])|  (1999,[48],[1.0])|  (1386,[2],[1.0])|\n",
      "| 190|         NGA|20181012| 12| Sokoto Sokoto State|    -10.0|13.06269|   5.24322|   10|         4|       19|NGAGOV|      NGA|      NGA|2018|        7.0| 314.0|114.0|       12.0| (177,[7],[1.0])| (1999,[314],[1.0])|(1386,[114],[1.0])|\n",
      "| 171|         USA|20181012| 12| Calexico California|     -9.2|32.67895|-115.49888|   10|         4|       17|USALAB|      USA|         |2018|        0.0|1541.0|207.0|        1.0| (177,[0],[1.0])|(1999,[1541],[1.0])|(1386,[207],[1.0])|\n",
      "| 020|         IND|20181012| 12|           Guwahati |      3.0| 26.1844|   91.7458|   10|         0|       02|---JUD|         |      IND|2018|        1.0|1865.0|  4.0|        0.0| (177,[1],[1.0])|(1999,[1865],[1.0])|  (1386,[4],[1.0])|\n",
      "| 020|         DEU|20181012| 12|Federal Republic ...|      3.0|    51.5|      10.5|   10|         0|       02|---MED|         |         |2018|       10.0|  56.0| 13.0|        0.0|(177,[10],[1.0])|  (1999,[56],[1.0])| (1386,[13],[1.0])|\n",
      "|0231|         USA|20181012| 12|         Washington |      3.4|37.13054|-113.50829|   10|         0|       02|   USA|      USA|      USA|2018|        0.0|  67.0|  1.0|        1.0| (177,[0],[1.0])|  (1999,[67],[1.0])|  (1386,[1],[1.0])|\n",
      "| 060|         IND|20181012| 12|  State of Karnataka|      6.0|14.66667|  75.83333|   10|         2|       06|INDJUD|      IND|         |2018|        1.0| 301.0| 69.0|        4.0| (177,[1],[1.0])| (1999,[301],[1.0])| (1386,[69],[1.0])|\n",
      "| 010|         ITA|20181012| 12|     Milan Lombardia|      0.0|45.46427|   9.18951|   10|         0|       01|   ITA|      ITA|         |2018|       19.0| 100.0| 75.0|       22.0|(177,[19],[1.0])| (1999,[100],[1.0])| (1386,[75],[1.0])|\n",
      "| 010|         TUR|20181012| 12|   Istanbul İstanbul|      0.0|41.01384|  28.94966|   10|         0|       01|TURGOV|      TUR|      USA|2018|        3.0|   2.0| 14.0|        2.0| (177,[3],[1.0])|   (1999,[2],[1.0])| (1386,[14],[1.0])|\n",
      "+----+------------+--------+---+--------------------+---------+--------+----------+-----+----------+---------+------+---------+---------+----+-----------+------+-----+-----------+----------------+-------------------+------------------+\n",
      "only showing top 20 rows\n",
      "\n"
     ]
    }
   ],
   "source": [
    "from pyspark.ml.feature import OneHotEncoderEstimator\n",
    "encoder = OneHotEncoderEstimator(inputCols=[\"src\"],\n",
    "                                 outputCols=[\"src_vec\"])\n",
    "from pyspark.sql import SQLContext\n",
    "#from pyspark.mllib.linalg import Vectors\n",
    "from pyspark.ml.linalg import Vectors, VectorUDT\n",
    "model = encoder.fit(encoded)\n",
    "\n",
    "encoded = model.transform(encoded)\n",
    "encoded.show()"
   ]
  },
  {
   "cell_type": "code",
   "execution_count": 162,
   "metadata": {},
   "outputs": [
    {
     "data": {
      "text/plain": [
       "19920"
      ]
     },
     "execution_count": 162,
     "metadata": {},
     "output_type": "execute_result"
    }
   ],
   "source": [
    "encoded = encoded.na.drop()\n",
    "encoded.count()"
   ]
  },
  {
   "cell_type": "code",
   "execution_count": 172,
   "metadata": {},
   "outputs": [],
   "source": [
    "# from pyspark.ml.feature import OneHotEncoderEstimator\n",
    "# encoder = OneHotEncoderEstimator(inputCols=[\"src_act_idx\"],\n",
    "#                                  outputCols=[\"src_act_vec\"])\n",
    "# from pyspark.sql import SQLContext\n",
    "# #from pyspark.mllib.linalg import Vectors\n",
    "# from pyspark.ml.linalg import Vectors, VectorUDT\n",
    "# model = encoder.fit(encoded)\n",
    "\n",
    "# encoded = model.transform(encoded)\n",
    "# encoded.show()"
   ]
  },
  {
   "cell_type": "code",
   "execution_count": 174,
   "metadata": {},
   "outputs": [
    {
     "name": "stderr",
     "output_type": "stream",
     "text": [
      "Exception ignored in: <function JavaWrapper.__del__ at 0x1225c0440>\n",
      "Traceback (most recent call last):\n",
      "  File \"/Users/meghnakurup/spark/python/pyspark/ml/wrapper.py\", line 40, in __del__\n",
      "    if SparkContext._active_spark_context and self._java_obj is not None:\n",
      "AttributeError: 'OneHotEncoderEstimator' object has no attribute '_java_obj'\n"
     ]
    },
    {
     "name": "stdout",
     "output_type": "stream",
     "text": [
      "+-----------+\n",
      "|src_act_idx|\n",
      "+-----------+\n",
      "|      147.0|\n",
      "|      160.0|\n",
      "|        8.0|\n",
      "|       67.0|\n",
      "|       70.0|\n",
      "|        0.0|\n",
      "|       69.0|\n",
      "|        7.0|\n",
      "|      142.0|\n",
      "|      154.0|\n",
      "|      112.0|\n",
      "|      124.0|\n",
      "|      128.0|\n",
      "|      108.0|\n",
      "|      133.0|\n",
      "|       88.0|\n",
      "|       49.0|\n",
      "|      155.0|\n",
      "|      101.0|\n",
      "|      116.0|\n",
      "+-----------+\n",
      "only showing top 20 rows\n",
      "\n"
     ]
    }
   ],
   "source": [
    "indexed.select(\"src_act_idx\").distinct().show()"
   ]
  },
  {
   "cell_type": "code",
   "execution_count": 175,
   "metadata": {},
   "outputs": [
    {
     "name": "stdout",
     "output_type": "stream",
     "text": [
      "+----+------------+--------+---+--------------------+---------+--------+----------+-----+----------+---------+------+---------+---------+----+-----------+------+-----+-----------+----------------+-------------------+------------------+\n",
      "|code|country_code|   date8|day|             geoname|goldstein|latitude| longitude|month|quad_class|root_code|source|src_actor|tgt_actor|year|country_idx| gname|  src|src_act_idx|     country_vec|          gname_vec|           src_vec|\n",
      "+----+------------+--------+---+--------------------+---------+--------+----------+-----+----------+---------+------+---------+---------+----+-----------+------+-----+-----------+----------------+-------------------+------------------+\n",
      "| 060|         UKR|20181012| 12|            Ukraine |      6.0|    49.0|      32.0|   10|         2|       06|   RUS|      RUS|         |2018|       44.0| 129.0| 21.0|        9.0|(177,[44],[1.0])| (1999,[129],[1.0])| (1386,[21],[1.0])|\n",
      "| 030|         RUS|20181012| 12| Russian Federation |      4.0|    60.0|     100.0|   10|         1|       03|RUSGOV|      RUS|         |2018|        9.0|  22.0| 34.0|        9.0| (177,[9],[1.0])|  (1999,[22],[1.0])| (1386,[34],[1.0])|\n",
      "| 010|         CHN|20181012| 12| Beijing Beijing Shi|      0.0| 39.9075| 116.39723|   10|         0|       01|---GOV|         |      CHN|2018|        6.0|   7.0|  0.0|        0.0| (177,[6],[1.0])|   (1999,[7],[1.0])|  (1386,[0],[1.0])|\n",
      "| 030|         CHN|20181012| 12|            Taishan |      4.0|22.25135|  112.7799|   10|         1|       03|   USA|      USA|      USA|2018|        6.0|1497.0|  1.0|        1.0| (177,[6],[1.0])|(1999,[1497],[1.0])|  (1386,[1],[1.0])|\n",
      "| 160|         HKG|20181012| 12|          Hong Kong |     -4.0|22.27832| 114.17469|   10|         3|       16|USAGOV|      USA|      HKG|2018|       25.0|  94.0|  2.0|        1.0|(177,[25],[1.0])|  (1999,[94],[1.0])|  (1386,[2],[1.0])|\n",
      "| 100|         TUR|20181012| 12|   Istanbul İstanbul|     -5.0|41.01384|  28.94966|   10|         3|       10|---MED|         |      SAU|2018|        3.0|   2.0| 13.0|        0.0| (177,[3],[1.0])|   (1999,[2],[1.0])| (1386,[13],[1.0])|\n",
      "| 100|         TUR|20181012| 12| Republic of Turkey |     -5.0|    39.0|      35.0|   10|         3|       10|   TUR|      TUR|      SAU|2018|        3.0|  23.0|  6.0|        2.0| (177,[3],[1.0])|  (1999,[23],[1.0])|  (1386,[6],[1.0])|\n",
      "| 174|         USA|20181012| 12|  Vero Beach Florida|     -5.0|27.63864| -80.39727|   10|         4|       17|---MIL|         |         |2018|        0.0| 710.0| 19.0|        0.0| (177,[0],[1.0])| (1999,[710],[1.0])| (1386,[19],[1.0])|\n",
      "| 051|         NGA|20181012| 12|       Anambra State|      3.4| 6.33333|       7.0|   10|         1|       05|   AUS|      AUS|         |2018|        7.0| 482.0| 49.0|       23.0| (177,[7],[1.0])| (1999,[482],[1.0])| (1386,[49],[1.0])|\n",
      "| 036|         NGA|20181012| 12|Abuja Federal Cap...|      4.0| 9.05785|   7.49508|   10|         1|       03|   NGA|      NGA|         |2018|        7.0|  28.0| 52.0|       12.0| (177,[7],[1.0])|  (1999,[28],[1.0])| (1386,[52],[1.0])|\n",
      "| 171|         GBR|20181012| 12|             England|     -9.2|52.16045|  -0.70312|   10|         4|       17|INDMED|      IND|      GBR|2018|        5.0|  46.0|344.0|        4.0| (177,[5],[1.0])|  (1999,[46],[1.0])|(1386,[344],[1.0])|\n",
      "| 084|         USA|20181012| 12|    Las Vegas Nevada|      7.0|36.17497|-115.13722|   10|         2|       08|USAGOV|      USA|      USA|2018|        0.0|  48.0|  2.0|        1.0| (177,[0],[1.0])|  (1999,[48],[1.0])|  (1386,[2],[1.0])|\n",
      "| 190|         NGA|20181012| 12| Sokoto Sokoto State|    -10.0|13.06269|   5.24322|   10|         4|       19|NGAGOV|      NGA|      NGA|2018|        7.0| 314.0|114.0|       12.0| (177,[7],[1.0])| (1999,[314],[1.0])|(1386,[114],[1.0])|\n",
      "| 171|         USA|20181012| 12| Calexico California|     -9.2|32.67895|-115.49888|   10|         4|       17|USALAB|      USA|         |2018|        0.0|1541.0|207.0|        1.0| (177,[0],[1.0])|(1999,[1541],[1.0])|(1386,[207],[1.0])|\n",
      "| 020|         IND|20181012| 12|           Guwahati |      3.0| 26.1844|   91.7458|   10|         0|       02|---JUD|         |      IND|2018|        1.0|1865.0|  4.0|        0.0| (177,[1],[1.0])|(1999,[1865],[1.0])|  (1386,[4],[1.0])|\n",
      "| 020|         DEU|20181012| 12|Federal Republic ...|      3.0|    51.5|      10.5|   10|         0|       02|---MED|         |         |2018|       10.0|  56.0| 13.0|        0.0|(177,[10],[1.0])|  (1999,[56],[1.0])| (1386,[13],[1.0])|\n",
      "|0231|         USA|20181012| 12|         Washington |      3.4|37.13054|-113.50829|   10|         0|       02|   USA|      USA|      USA|2018|        0.0|  67.0|  1.0|        1.0| (177,[0],[1.0])|  (1999,[67],[1.0])|  (1386,[1],[1.0])|\n",
      "| 060|         IND|20181012| 12|  State of Karnataka|      6.0|14.66667|  75.83333|   10|         2|       06|INDJUD|      IND|         |2018|        1.0| 301.0| 69.0|        4.0| (177,[1],[1.0])| (1999,[301],[1.0])| (1386,[69],[1.0])|\n",
      "| 010|         ITA|20181012| 12|     Milan Lombardia|      0.0|45.46427|   9.18951|   10|         0|       01|   ITA|      ITA|         |2018|       19.0| 100.0| 75.0|       22.0|(177,[19],[1.0])| (1999,[100],[1.0])| (1386,[75],[1.0])|\n",
      "| 010|         TUR|20181012| 12|   Istanbul İstanbul|      0.0|41.01384|  28.94966|   10|         0|       01|TURGOV|      TUR|      USA|2018|        3.0|   2.0| 14.0|        2.0| (177,[3],[1.0])|   (1999,[2],[1.0])| (1386,[14],[1.0])|\n",
      "+----+------------+--------+---+--------------------+---------+--------+----------+-----+----------+---------+------+---------+---------+----+-----------+------+-----+-----------+----------------+-------------------+------------------+\n",
      "only showing top 20 rows\n",
      "\n"
     ]
    }
   ],
   "source": [
    "encoded.show()"
   ]
  },
  {
   "cell_type": "code",
   "execution_count": 194,
   "metadata": {},
   "outputs": [
    {
     "name": "stdout",
     "output_type": "stream",
     "text": [
      "+----+------------+--------+---+--------------------+---------+--------+----------+-----+----------+---------+------+---------+---------+----+-----------+------+-----+-----------+----------------+-------------------+------------------+--------+\n",
      "|code|country_code|   date8|day|             geoname|goldstein|latitude| longitude|month|quad_class|root_code|source|src_actor|tgt_actor|year|country_idx| gname|  src|src_act_idx|     country_vec|          gname_vec|           src_vec|code_idx|\n",
      "+----+------------+--------+---+--------------------+---------+--------+----------+-----+----------+---------+------+---------+---------+----+-----------+------+-----+-----------+----------------+-------------------+------------------+--------+\n",
      "| 060|         UKR|20181012| 12|            Ukraine |      6.0|    49.0|      32.0|   10|         2|       06|   RUS|      RUS|         |2018|       44.0| 129.0| 21.0|        9.0|(177,[44],[1.0])| (1999,[129],[1.0])| (1386,[21],[1.0])|     4.0|\n",
      "| 030|         RUS|20181012| 12| Russian Federation |      4.0|    60.0|     100.0|   10|         1|       03|RUSGOV|      RUS|         |2018|        9.0|  22.0| 34.0|        9.0| (177,[9],[1.0])|  (1999,[22],[1.0])| (1386,[34],[1.0])|     2.0|\n",
      "| 010|         CHN|20181012| 12| Beijing Beijing Shi|      0.0| 39.9075| 116.39723|   10|         0|       01|---GOV|         |      CHN|2018|        6.0|   7.0|  0.0|        0.0| (177,[6],[1.0])|   (1999,[7],[1.0])|  (1386,[0],[1.0])|     0.0|\n",
      "| 030|         CHN|20181012| 12|            Taishan |      4.0|22.25135|  112.7799|   10|         1|       03|   USA|      USA|      USA|2018|        6.0|1497.0|  1.0|        1.0| (177,[6],[1.0])|(1999,[1497],[1.0])|  (1386,[1],[1.0])|     2.0|\n",
      "| 160|         HKG|20181012| 12|          Hong Kong |     -4.0|22.27832| 114.17469|   10|         3|       16|USAGOV|      USA|      HKG|2018|       25.0|  94.0|  2.0|        1.0|(177,[25],[1.0])|  (1999,[94],[1.0])|  (1386,[2],[1.0])|    36.0|\n",
      "| 100|         TUR|20181012| 12|   Istanbul İstanbul|     -5.0|41.01384|  28.94966|   10|         3|       10|---MED|         |      SAU|2018|        3.0|   2.0| 13.0|        0.0| (177,[3],[1.0])|   (1999,[2],[1.0])| (1386,[13],[1.0])|    17.0|\n",
      "| 100|         TUR|20181012| 12| Republic of Turkey |     -5.0|    39.0|      35.0|   10|         3|       10|   TUR|      TUR|      SAU|2018|        3.0|  23.0|  6.0|        2.0| (177,[3],[1.0])|  (1999,[23],[1.0])|  (1386,[6],[1.0])|    17.0|\n",
      "| 174|         USA|20181012| 12|  Vero Beach Florida|     -5.0|27.63864| -80.39727|   10|         4|       17|---MIL|         |         |2018|        0.0| 710.0| 19.0|        0.0| (177,[0],[1.0])| (1999,[710],[1.0])| (1386,[19],[1.0])|    28.0|\n",
      "| 051|         NGA|20181012| 12|       Anambra State|      3.4| 6.33333|       7.0|   10|         1|       05|   AUS|      AUS|         |2018|        7.0| 482.0| 49.0|       23.0| (177,[7],[1.0])| (1999,[482],[1.0])| (1386,[49],[1.0])|    11.0|\n",
      "| 036|         NGA|20181012| 12|Abuja Federal Cap...|      4.0| 9.05785|   7.49508|   10|         1|       03|   NGA|      NGA|         |2018|        7.0|  28.0| 52.0|       12.0| (177,[7],[1.0])|  (1999,[28],[1.0])| (1386,[52],[1.0])|    25.0|\n",
      "| 171|         GBR|20181012| 12|             England|     -9.2|52.16045|  -0.70312|   10|         4|       17|INDMED|      IND|      GBR|2018|        5.0|  46.0|344.0|        4.0| (177,[5],[1.0])|  (1999,[46],[1.0])|(1386,[344],[1.0])|     8.0|\n",
      "| 084|         USA|20181012| 12|    Las Vegas Nevada|      7.0|36.17497|-115.13722|   10|         2|       08|USAGOV|      USA|      USA|2018|        0.0|  48.0|  2.0|        1.0| (177,[0],[1.0])|  (1999,[48],[1.0])|  (1386,[2],[1.0])|    31.0|\n",
      "| 190|         NGA|20181012| 12| Sokoto Sokoto State|    -10.0|13.06269|   5.24322|   10|         4|       19|NGAGOV|      NGA|      NGA|2018|        7.0| 314.0|114.0|       12.0| (177,[7],[1.0])| (1999,[314],[1.0])|(1386,[114],[1.0])|     3.0|\n",
      "| 171|         USA|20181012| 12| Calexico California|     -9.2|32.67895|-115.49888|   10|         4|       17|USALAB|      USA|         |2018|        0.0|1541.0|207.0|        1.0| (177,[0],[1.0])|(1999,[1541],[1.0])|(1386,[207],[1.0])|     8.0|\n",
      "| 020|         IND|20181012| 12|           Guwahati |      3.0| 26.1844|   91.7458|   10|         0|       02|---JUD|         |      IND|2018|        1.0|1865.0|  4.0|        0.0| (177,[1],[1.0])|(1999,[1865],[1.0])|  (1386,[4],[1.0])|     5.0|\n",
      "| 020|         DEU|20181012| 12|Federal Republic ...|      3.0|    51.5|      10.5|   10|         0|       02|---MED|         |         |2018|       10.0|  56.0| 13.0|        0.0|(177,[10],[1.0])|  (1999,[56],[1.0])| (1386,[13],[1.0])|     5.0|\n",
      "|0231|         USA|20181012| 12|         Washington |      3.4|37.13054|-113.50829|   10|         0|       02|   USA|      USA|      USA|2018|        0.0|  67.0|  1.0|        1.0| (177,[0],[1.0])|  (1999,[67],[1.0])|  (1386,[1],[1.0])|    64.0|\n",
      "| 060|         IND|20181012| 12|  State of Karnataka|      6.0|14.66667|  75.83333|   10|         2|       06|INDJUD|      IND|         |2018|        1.0| 301.0| 69.0|        4.0| (177,[1],[1.0])| (1999,[301],[1.0])| (1386,[69],[1.0])|     4.0|\n",
      "| 010|         ITA|20181012| 12|     Milan Lombardia|      0.0|45.46427|   9.18951|   10|         0|       01|   ITA|      ITA|         |2018|       19.0| 100.0| 75.0|       22.0|(177,[19],[1.0])| (1999,[100],[1.0])| (1386,[75],[1.0])|     0.0|\n",
      "| 010|         TUR|20181012| 12|   Istanbul İstanbul|      0.0|41.01384|  28.94966|   10|         0|       01|TURGOV|      TUR|      USA|2018|        3.0|   2.0| 14.0|        2.0| (177,[3],[1.0])|   (1999,[2],[1.0])| (1386,[14],[1.0])|     0.0|\n",
      "+----+------------+--------+---+--------------------+---------+--------+----------+-----+----------+---------+------+---------+---------+----+-----------+------+-----+-----------+----------------+-------------------+------------------+--------+\n",
      "only showing top 20 rows\n",
      "\n"
     ]
    }
   ],
   "source": [
    "indexer = StringIndexer(inputCol=\"code\", outputCol=\"code_idx\")\n",
    "encoded = indexer.fit(encoded).transform(encoded)\n",
    "encoded.show()\n"
   ]
  },
  {
   "cell_type": "code",
   "execution_count": 195,
   "metadata": {},
   "outputs": [
    {
     "name": "stdout",
     "output_type": "stream",
     "text": [
      "+----+------------+--------+---+--------------------+---------+--------+----------+-----+----------+---------+------+---------+---------+----+-----------+------+-----+-----------+----------------+-------------------+------------------+--------+----------------+\n",
      "|code|country_code|   date8|day|             geoname|goldstein|latitude| longitude|month|quad_class|root_code|source|src_actor|tgt_actor|year|country_idx| gname|  src|src_act_idx|     country_vec|          gname_vec|           src_vec|code_idx|        code_vec|\n",
      "+----+------------+--------+---+--------------------+---------+--------+----------+-----+----------+---------+------+---------+---------+----+-----------+------+-----+-----------+----------------+-------------------+------------------+--------+----------------+\n",
      "| 060|         UKR|20181012| 12|            Ukraine |      6.0|    49.0|      32.0|   10|         2|       06|   RUS|      RUS|         |2018|       44.0| 129.0| 21.0|        9.0|(177,[44],[1.0])| (1999,[129],[1.0])| (1386,[21],[1.0])|     4.0| (153,[4],[1.0])|\n",
      "| 030|         RUS|20181012| 12| Russian Federation |      4.0|    60.0|     100.0|   10|         1|       03|RUSGOV|      RUS|         |2018|        9.0|  22.0| 34.0|        9.0| (177,[9],[1.0])|  (1999,[22],[1.0])| (1386,[34],[1.0])|     2.0| (153,[2],[1.0])|\n",
      "| 010|         CHN|20181012| 12| Beijing Beijing Shi|      0.0| 39.9075| 116.39723|   10|         0|       01|---GOV|         |      CHN|2018|        6.0|   7.0|  0.0|        0.0| (177,[6],[1.0])|   (1999,[7],[1.0])|  (1386,[0],[1.0])|     0.0| (153,[0],[1.0])|\n",
      "| 030|         CHN|20181012| 12|            Taishan |      4.0|22.25135|  112.7799|   10|         1|       03|   USA|      USA|      USA|2018|        6.0|1497.0|  1.0|        1.0| (177,[6],[1.0])|(1999,[1497],[1.0])|  (1386,[1],[1.0])|     2.0| (153,[2],[1.0])|\n",
      "| 160|         HKG|20181012| 12|          Hong Kong |     -4.0|22.27832| 114.17469|   10|         3|       16|USAGOV|      USA|      HKG|2018|       25.0|  94.0|  2.0|        1.0|(177,[25],[1.0])|  (1999,[94],[1.0])|  (1386,[2],[1.0])|    36.0|(153,[36],[1.0])|\n",
      "| 100|         TUR|20181012| 12|   Istanbul İstanbul|     -5.0|41.01384|  28.94966|   10|         3|       10|---MED|         |      SAU|2018|        3.0|   2.0| 13.0|        0.0| (177,[3],[1.0])|   (1999,[2],[1.0])| (1386,[13],[1.0])|    17.0|(153,[17],[1.0])|\n",
      "| 100|         TUR|20181012| 12| Republic of Turkey |     -5.0|    39.0|      35.0|   10|         3|       10|   TUR|      TUR|      SAU|2018|        3.0|  23.0|  6.0|        2.0| (177,[3],[1.0])|  (1999,[23],[1.0])|  (1386,[6],[1.0])|    17.0|(153,[17],[1.0])|\n",
      "| 174|         USA|20181012| 12|  Vero Beach Florida|     -5.0|27.63864| -80.39727|   10|         4|       17|---MIL|         |         |2018|        0.0| 710.0| 19.0|        0.0| (177,[0],[1.0])| (1999,[710],[1.0])| (1386,[19],[1.0])|    28.0|(153,[28],[1.0])|\n",
      "| 051|         NGA|20181012| 12|       Anambra State|      3.4| 6.33333|       7.0|   10|         1|       05|   AUS|      AUS|         |2018|        7.0| 482.0| 49.0|       23.0| (177,[7],[1.0])| (1999,[482],[1.0])| (1386,[49],[1.0])|    11.0|(153,[11],[1.0])|\n",
      "| 036|         NGA|20181012| 12|Abuja Federal Cap...|      4.0| 9.05785|   7.49508|   10|         1|       03|   NGA|      NGA|         |2018|        7.0|  28.0| 52.0|       12.0| (177,[7],[1.0])|  (1999,[28],[1.0])| (1386,[52],[1.0])|    25.0|(153,[25],[1.0])|\n",
      "| 171|         GBR|20181012| 12|             England|     -9.2|52.16045|  -0.70312|   10|         4|       17|INDMED|      IND|      GBR|2018|        5.0|  46.0|344.0|        4.0| (177,[5],[1.0])|  (1999,[46],[1.0])|(1386,[344],[1.0])|     8.0| (153,[8],[1.0])|\n",
      "| 084|         USA|20181012| 12|    Las Vegas Nevada|      7.0|36.17497|-115.13722|   10|         2|       08|USAGOV|      USA|      USA|2018|        0.0|  48.0|  2.0|        1.0| (177,[0],[1.0])|  (1999,[48],[1.0])|  (1386,[2],[1.0])|    31.0|(153,[31],[1.0])|\n",
      "| 190|         NGA|20181012| 12| Sokoto Sokoto State|    -10.0|13.06269|   5.24322|   10|         4|       19|NGAGOV|      NGA|      NGA|2018|        7.0| 314.0|114.0|       12.0| (177,[7],[1.0])| (1999,[314],[1.0])|(1386,[114],[1.0])|     3.0| (153,[3],[1.0])|\n",
      "| 171|         USA|20181012| 12| Calexico California|     -9.2|32.67895|-115.49888|   10|         4|       17|USALAB|      USA|         |2018|        0.0|1541.0|207.0|        1.0| (177,[0],[1.0])|(1999,[1541],[1.0])|(1386,[207],[1.0])|     8.0| (153,[8],[1.0])|\n",
      "| 020|         IND|20181012| 12|           Guwahati |      3.0| 26.1844|   91.7458|   10|         0|       02|---JUD|         |      IND|2018|        1.0|1865.0|  4.0|        0.0| (177,[1],[1.0])|(1999,[1865],[1.0])|  (1386,[4],[1.0])|     5.0| (153,[5],[1.0])|\n",
      "| 020|         DEU|20181012| 12|Federal Republic ...|      3.0|    51.5|      10.5|   10|         0|       02|---MED|         |         |2018|       10.0|  56.0| 13.0|        0.0|(177,[10],[1.0])|  (1999,[56],[1.0])| (1386,[13],[1.0])|     5.0| (153,[5],[1.0])|\n",
      "|0231|         USA|20181012| 12|         Washington |      3.4|37.13054|-113.50829|   10|         0|       02|   USA|      USA|      USA|2018|        0.0|  67.0|  1.0|        1.0| (177,[0],[1.0])|  (1999,[67],[1.0])|  (1386,[1],[1.0])|    64.0|(153,[64],[1.0])|\n",
      "| 060|         IND|20181012| 12|  State of Karnataka|      6.0|14.66667|  75.83333|   10|         2|       06|INDJUD|      IND|         |2018|        1.0| 301.0| 69.0|        4.0| (177,[1],[1.0])| (1999,[301],[1.0])| (1386,[69],[1.0])|     4.0| (153,[4],[1.0])|\n",
      "| 010|         ITA|20181012| 12|     Milan Lombardia|      0.0|45.46427|   9.18951|   10|         0|       01|   ITA|      ITA|         |2018|       19.0| 100.0| 75.0|       22.0|(177,[19],[1.0])| (1999,[100],[1.0])| (1386,[75],[1.0])|     0.0| (153,[0],[1.0])|\n",
      "| 010|         TUR|20181012| 12|   Istanbul İstanbul|      0.0|41.01384|  28.94966|   10|         0|       01|TURGOV|      TUR|      USA|2018|        3.0|   2.0| 14.0|        2.0| (177,[3],[1.0])|   (1999,[2],[1.0])| (1386,[14],[1.0])|     0.0| (153,[0],[1.0])|\n",
      "+----+------------+--------+---+--------------------+---------+--------+----------+-----+----------+---------+------+---------+---------+----+-----------+------+-----+-----------+----------------+-------------------+------------------+--------+----------------+\n",
      "only showing top 20 rows\n",
      "\n"
     ]
    }
   ],
   "source": [
    "# from pyspark.ml.feature import OneHotEncoderEstimator\n",
    "encoder = OneHotEncoderEstimator(inputCols=[\"code_idx\"],\n",
    "                                 outputCols=[\"code_vec\"])\n",
    "from pyspark.sql import SQLContext\n",
    "#from pyspark.mllib.linalg import Vectors\n",
    "from pyspark.ml.linalg import Vectors, VectorUDT\n",
    "model = encoder.fit(encoded)\n",
    "\n",
    "encoded = model.transform(encoded)\n",
    "encoded.show()"
   ]
  },
  {
   "cell_type": "code",
   "execution_count": 203,
   "metadata": {},
   "outputs": [
    {
     "name": "stdout",
     "output_type": "stream",
     "text": [
      "+----+------------+--------+---+--------------------+---------+--------+----------+-----+----------+---------+------+---------+---------+----+-----------+------+-----+-----------+----------------+-------------------+------------------+--------+----------------+--------+\n",
      "|code|country_code|   date8|day|             geoname|goldstein|latitude| longitude|month|quad_class|root_code|source|src_actor|tgt_actor|year|country_idx| gname|  src|src_act_idx|     country_vec|          gname_vec|           src_vec|code_idx|        code_vec|root_idx|\n",
      "+----+------------+--------+---+--------------------+---------+--------+----------+-----+----------+---------+------+---------+---------+----+-----------+------+-----+-----------+----------------+-------------------+------------------+--------+----------------+--------+\n",
      "| 060|         UKR|20181012| 12|            Ukraine |      6.0|    49.0|      32.0|   10|         2|       06|   RUS|      RUS|         |2018|       44.0| 129.0| 21.0|        9.0|(177,[44],[1.0])| (1999,[129],[1.0])| (1386,[21],[1.0])|     4.0| (153,[4],[1.0])|     6.0|\n",
      "| 030|         RUS|20181012| 12| Russian Federation |      4.0|    60.0|     100.0|   10|         1|       03|RUSGOV|      RUS|         |2018|        9.0|  22.0| 34.0|        9.0| (177,[9],[1.0])|  (1999,[22],[1.0])| (1386,[34],[1.0])|     2.0| (153,[2],[1.0])|     2.0|\n",
      "| 010|         CHN|20181012| 12| Beijing Beijing Shi|      0.0| 39.9075| 116.39723|   10|         0|       01|---GOV|         |      CHN|2018|        6.0|   7.0|  0.0|        0.0| (177,[6],[1.0])|   (1999,[7],[1.0])|  (1386,[0],[1.0])|     0.0| (153,[0],[1.0])|     0.0|\n",
      "| 030|         CHN|20181012| 12|            Taishan |      4.0|22.25135|  112.7799|   10|         1|       03|   USA|      USA|      USA|2018|        6.0|1497.0|  1.0|        1.0| (177,[6],[1.0])|(1999,[1497],[1.0])|  (1386,[1],[1.0])|     2.0| (153,[2],[1.0])|     2.0|\n",
      "| 160|         HKG|20181012| 12|          Hong Kong |     -4.0|22.27832| 114.17469|   10|         3|       16|USAGOV|      USA|      HKG|2018|       25.0|  94.0|  2.0|        1.0|(177,[25],[1.0])|  (1999,[94],[1.0])|  (1386,[2],[1.0])|    36.0|(153,[36],[1.0])|    17.0|\n",
      "| 100|         TUR|20181012| 12|   Istanbul İstanbul|     -5.0|41.01384|  28.94966|   10|         3|       10|---MED|         |      SAU|2018|        3.0|   2.0| 13.0|        0.0| (177,[3],[1.0])|   (1999,[2],[1.0])| (1386,[13],[1.0])|    17.0|(153,[17],[1.0])|    11.0|\n",
      "| 100|         TUR|20181012| 12| Republic of Turkey |     -5.0|    39.0|      35.0|   10|         3|       10|   TUR|      TUR|      SAU|2018|        3.0|  23.0|  6.0|        2.0| (177,[3],[1.0])|  (1999,[23],[1.0])|  (1386,[6],[1.0])|    17.0|(153,[17],[1.0])|    11.0|\n",
      "| 174|         USA|20181012| 12|  Vero Beach Florida|     -5.0|27.63864| -80.39727|   10|         4|       17|---MIL|         |         |2018|        0.0| 710.0| 19.0|        0.0| (177,[0],[1.0])| (1999,[710],[1.0])| (1386,[19],[1.0])|    28.0|(153,[28],[1.0])|     3.0|\n",
      "| 051|         NGA|20181012| 12|       Anambra State|      3.4| 6.33333|       7.0|   10|         1|       05|   AUS|      AUS|         |2018|        7.0| 482.0| 49.0|       23.0| (177,[7],[1.0])| (1999,[482],[1.0])| (1386,[49],[1.0])|    11.0|(153,[11],[1.0])|     7.0|\n",
      "| 036|         NGA|20181012| 12|Abuja Federal Cap...|      4.0| 9.05785|   7.49508|   10|         1|       03|   NGA|      NGA|         |2018|        7.0|  28.0| 52.0|       12.0| (177,[7],[1.0])|  (1999,[28],[1.0])| (1386,[52],[1.0])|    25.0|(153,[25],[1.0])|     2.0|\n",
      "| 171|         GBR|20181012| 12|             England|     -9.2|52.16045|  -0.70312|   10|         4|       17|INDMED|      IND|      GBR|2018|        5.0|  46.0|344.0|        4.0| (177,[5],[1.0])|  (1999,[46],[1.0])|(1386,[344],[1.0])|     8.0| (153,[8],[1.0])|     3.0|\n",
      "| 084|         USA|20181012| 12|    Las Vegas Nevada|      7.0|36.17497|-115.13722|   10|         2|       08|USAGOV|      USA|      USA|2018|        0.0|  48.0|  2.0|        1.0| (177,[0],[1.0])|  (1999,[48],[1.0])|  (1386,[2],[1.0])|    31.0|(153,[31],[1.0])|     9.0|\n",
      "| 190|         NGA|20181012| 12| Sokoto Sokoto State|    -10.0|13.06269|   5.24322|   10|         4|       19|NGAGOV|      NGA|      NGA|2018|        7.0| 314.0|114.0|       12.0| (177,[7],[1.0])| (1999,[314],[1.0])|(1386,[114],[1.0])|     3.0| (153,[3],[1.0])|     5.0|\n",
      "| 171|         USA|20181012| 12| Calexico California|     -9.2|32.67895|-115.49888|   10|         4|       17|USALAB|      USA|         |2018|        0.0|1541.0|207.0|        1.0| (177,[0],[1.0])|(1999,[1541],[1.0])|(1386,[207],[1.0])|     8.0| (153,[8],[1.0])|     3.0|\n",
      "| 020|         IND|20181012| 12|           Guwahati |      3.0| 26.1844|   91.7458|   10|         0|       02|---JUD|         |      IND|2018|        1.0|1865.0|  4.0|        0.0| (177,[1],[1.0])|(1999,[1865],[1.0])|  (1386,[4],[1.0])|     5.0| (153,[5],[1.0])|     8.0|\n",
      "| 020|         DEU|20181012| 12|Federal Republic ...|      3.0|    51.5|      10.5|   10|         0|       02|---MED|         |         |2018|       10.0|  56.0| 13.0|        0.0|(177,[10],[1.0])|  (1999,[56],[1.0])| (1386,[13],[1.0])|     5.0| (153,[5],[1.0])|     8.0|\n",
      "|0231|         USA|20181012| 12|         Washington |      3.4|37.13054|-113.50829|   10|         0|       02|   USA|      USA|      USA|2018|        0.0|  67.0|  1.0|        1.0| (177,[0],[1.0])|  (1999,[67],[1.0])|  (1386,[1],[1.0])|    64.0|(153,[64],[1.0])|     8.0|\n",
      "| 060|         IND|20181012| 12|  State of Karnataka|      6.0|14.66667|  75.83333|   10|         2|       06|INDJUD|      IND|         |2018|        1.0| 301.0| 69.0|        4.0| (177,[1],[1.0])| (1999,[301],[1.0])| (1386,[69],[1.0])|     4.0| (153,[4],[1.0])|     6.0|\n",
      "| 010|         ITA|20181012| 12|     Milan Lombardia|      0.0|45.46427|   9.18951|   10|         0|       01|   ITA|      ITA|         |2018|       19.0| 100.0| 75.0|       22.0|(177,[19],[1.0])| (1999,[100],[1.0])| (1386,[75],[1.0])|     0.0| (153,[0],[1.0])|     0.0|\n",
      "| 010|         TUR|20181012| 12|   Istanbul İstanbul|      0.0|41.01384|  28.94966|   10|         0|       01|TURGOV|      TUR|      USA|2018|        3.0|   2.0| 14.0|        2.0| (177,[3],[1.0])|   (1999,[2],[1.0])| (1386,[14],[1.0])|     0.0| (153,[0],[1.0])|     0.0|\n",
      "+----+------------+--------+---+--------------------+---------+--------+----------+-----+----------+---------+------+---------+---------+----+-----------+------+-----+-----------+----------------+-------------------+------------------+--------+----------------+--------+\n",
      "only showing top 20 rows\n",
      "\n"
     ]
    }
   ],
   "source": [
    "indexer = StringIndexer(inputCol=\"root_code\", outputCol=\"root_idx\")\n",
    "encoded = indexer.fit(encoded).transform(encoded)\n",
    "encoded.show()"
   ]
  },
  {
   "cell_type": "code",
   "execution_count": 204,
   "metadata": {},
   "outputs": [
    {
     "name": "stdout",
     "output_type": "stream",
     "text": [
      "+----+------------+--------+---+--------------------+---------+--------+----------+-----+----------+---------+------+---------+---------+----+-----------+------+-----+-----------+----------------+-------------------+------------------+--------+----------------+--------+---------------+\n",
      "|code|country_code|   date8|day|             geoname|goldstein|latitude| longitude|month|quad_class|root_code|source|src_actor|tgt_actor|year|country_idx| gname|  src|src_act_idx|     country_vec|          gname_vec|           src_vec|code_idx|        code_vec|root_idx|       root_vec|\n",
      "+----+------------+--------+---+--------------------+---------+--------+----------+-----+----------+---------+------+---------+---------+----+-----------+------+-----+-----------+----------------+-------------------+------------------+--------+----------------+--------+---------------+\n",
      "| 060|         UKR|20181012| 12|            Ukraine |      6.0|    49.0|      32.0|   10|         2|       06|   RUS|      RUS|         |2018|       44.0| 129.0| 21.0|        9.0|(177,[44],[1.0])| (1999,[129],[1.0])| (1386,[21],[1.0])|     4.0| (153,[4],[1.0])|     6.0| (19,[6],[1.0])|\n",
      "| 030|         RUS|20181012| 12| Russian Federation |      4.0|    60.0|     100.0|   10|         1|       03|RUSGOV|      RUS|         |2018|        9.0|  22.0| 34.0|        9.0| (177,[9],[1.0])|  (1999,[22],[1.0])| (1386,[34],[1.0])|     2.0| (153,[2],[1.0])|     2.0| (19,[2],[1.0])|\n",
      "| 010|         CHN|20181012| 12| Beijing Beijing Shi|      0.0| 39.9075| 116.39723|   10|         0|       01|---GOV|         |      CHN|2018|        6.0|   7.0|  0.0|        0.0| (177,[6],[1.0])|   (1999,[7],[1.0])|  (1386,[0],[1.0])|     0.0| (153,[0],[1.0])|     0.0| (19,[0],[1.0])|\n",
      "| 030|         CHN|20181012| 12|            Taishan |      4.0|22.25135|  112.7799|   10|         1|       03|   USA|      USA|      USA|2018|        6.0|1497.0|  1.0|        1.0| (177,[6],[1.0])|(1999,[1497],[1.0])|  (1386,[1],[1.0])|     2.0| (153,[2],[1.0])|     2.0| (19,[2],[1.0])|\n",
      "| 160|         HKG|20181012| 12|          Hong Kong |     -4.0|22.27832| 114.17469|   10|         3|       16|USAGOV|      USA|      HKG|2018|       25.0|  94.0|  2.0|        1.0|(177,[25],[1.0])|  (1999,[94],[1.0])|  (1386,[2],[1.0])|    36.0|(153,[36],[1.0])|    17.0|(19,[17],[1.0])|\n",
      "| 100|         TUR|20181012| 12|   Istanbul İstanbul|     -5.0|41.01384|  28.94966|   10|         3|       10|---MED|         |      SAU|2018|        3.0|   2.0| 13.0|        0.0| (177,[3],[1.0])|   (1999,[2],[1.0])| (1386,[13],[1.0])|    17.0|(153,[17],[1.0])|    11.0|(19,[11],[1.0])|\n",
      "| 100|         TUR|20181012| 12| Republic of Turkey |     -5.0|    39.0|      35.0|   10|         3|       10|   TUR|      TUR|      SAU|2018|        3.0|  23.0|  6.0|        2.0| (177,[3],[1.0])|  (1999,[23],[1.0])|  (1386,[6],[1.0])|    17.0|(153,[17],[1.0])|    11.0|(19,[11],[1.0])|\n",
      "| 174|         USA|20181012| 12|  Vero Beach Florida|     -5.0|27.63864| -80.39727|   10|         4|       17|---MIL|         |         |2018|        0.0| 710.0| 19.0|        0.0| (177,[0],[1.0])| (1999,[710],[1.0])| (1386,[19],[1.0])|    28.0|(153,[28],[1.0])|     3.0| (19,[3],[1.0])|\n",
      "| 051|         NGA|20181012| 12|       Anambra State|      3.4| 6.33333|       7.0|   10|         1|       05|   AUS|      AUS|         |2018|        7.0| 482.0| 49.0|       23.0| (177,[7],[1.0])| (1999,[482],[1.0])| (1386,[49],[1.0])|    11.0|(153,[11],[1.0])|     7.0| (19,[7],[1.0])|\n",
      "| 036|         NGA|20181012| 12|Abuja Federal Cap...|      4.0| 9.05785|   7.49508|   10|         1|       03|   NGA|      NGA|         |2018|        7.0|  28.0| 52.0|       12.0| (177,[7],[1.0])|  (1999,[28],[1.0])| (1386,[52],[1.0])|    25.0|(153,[25],[1.0])|     2.0| (19,[2],[1.0])|\n",
      "| 171|         GBR|20181012| 12|             England|     -9.2|52.16045|  -0.70312|   10|         4|       17|INDMED|      IND|      GBR|2018|        5.0|  46.0|344.0|        4.0| (177,[5],[1.0])|  (1999,[46],[1.0])|(1386,[344],[1.0])|     8.0| (153,[8],[1.0])|     3.0| (19,[3],[1.0])|\n",
      "| 084|         USA|20181012| 12|    Las Vegas Nevada|      7.0|36.17497|-115.13722|   10|         2|       08|USAGOV|      USA|      USA|2018|        0.0|  48.0|  2.0|        1.0| (177,[0],[1.0])|  (1999,[48],[1.0])|  (1386,[2],[1.0])|    31.0|(153,[31],[1.0])|     9.0| (19,[9],[1.0])|\n",
      "| 190|         NGA|20181012| 12| Sokoto Sokoto State|    -10.0|13.06269|   5.24322|   10|         4|       19|NGAGOV|      NGA|      NGA|2018|        7.0| 314.0|114.0|       12.0| (177,[7],[1.0])| (1999,[314],[1.0])|(1386,[114],[1.0])|     3.0| (153,[3],[1.0])|     5.0| (19,[5],[1.0])|\n",
      "| 171|         USA|20181012| 12| Calexico California|     -9.2|32.67895|-115.49888|   10|         4|       17|USALAB|      USA|         |2018|        0.0|1541.0|207.0|        1.0| (177,[0],[1.0])|(1999,[1541],[1.0])|(1386,[207],[1.0])|     8.0| (153,[8],[1.0])|     3.0| (19,[3],[1.0])|\n",
      "| 020|         IND|20181012| 12|           Guwahati |      3.0| 26.1844|   91.7458|   10|         0|       02|---JUD|         |      IND|2018|        1.0|1865.0|  4.0|        0.0| (177,[1],[1.0])|(1999,[1865],[1.0])|  (1386,[4],[1.0])|     5.0| (153,[5],[1.0])|     8.0| (19,[8],[1.0])|\n",
      "| 020|         DEU|20181012| 12|Federal Republic ...|      3.0|    51.5|      10.5|   10|         0|       02|---MED|         |         |2018|       10.0|  56.0| 13.0|        0.0|(177,[10],[1.0])|  (1999,[56],[1.0])| (1386,[13],[1.0])|     5.0| (153,[5],[1.0])|     8.0| (19,[8],[1.0])|\n",
      "|0231|         USA|20181012| 12|         Washington |      3.4|37.13054|-113.50829|   10|         0|       02|   USA|      USA|      USA|2018|        0.0|  67.0|  1.0|        1.0| (177,[0],[1.0])|  (1999,[67],[1.0])|  (1386,[1],[1.0])|    64.0|(153,[64],[1.0])|     8.0| (19,[8],[1.0])|\n",
      "| 060|         IND|20181012| 12|  State of Karnataka|      6.0|14.66667|  75.83333|   10|         2|       06|INDJUD|      IND|         |2018|        1.0| 301.0| 69.0|        4.0| (177,[1],[1.0])| (1999,[301],[1.0])| (1386,[69],[1.0])|     4.0| (153,[4],[1.0])|     6.0| (19,[6],[1.0])|\n",
      "| 010|         ITA|20181012| 12|     Milan Lombardia|      0.0|45.46427|   9.18951|   10|         0|       01|   ITA|      ITA|         |2018|       19.0| 100.0| 75.0|       22.0|(177,[19],[1.0])| (1999,[100],[1.0])| (1386,[75],[1.0])|     0.0| (153,[0],[1.0])|     0.0| (19,[0],[1.0])|\n",
      "| 010|         TUR|20181012| 12|   Istanbul İstanbul|      0.0|41.01384|  28.94966|   10|         0|       01|TURGOV|      TUR|      USA|2018|        3.0|   2.0| 14.0|        2.0| (177,[3],[1.0])|   (1999,[2],[1.0])| (1386,[14],[1.0])|     0.0| (153,[0],[1.0])|     0.0| (19,[0],[1.0])|\n",
      "+----+------------+--------+---+--------------------+---------+--------+----------+-----+----------+---------+------+---------+---------+----+-----------+------+-----+-----------+----------------+-------------------+------------------+--------+----------------+--------+---------------+\n",
      "only showing top 20 rows\n",
      "\n"
     ]
    }
   ],
   "source": [
    "# from pyspark.ml.feature import OneHotEncoderEstimator\n",
    "encoder = OneHotEncoderEstimator(inputCols=[\"root_idx\"],\n",
    "                                 outputCols=[\"root_vec\"])\n",
    "from pyspark.sql import SQLContext\n",
    "#from pyspark.mllib.linalg import Vectors\n",
    "from pyspark.ml.linalg import Vectors, VectorUDT\n",
    "model = encoder.fit(encoded)\n",
    "\n",
    "encoded = model.transform(encoded)\n",
    "encoded.show()"
   ]
  },
  {
   "cell_type": "markdown",
   "metadata": {},
   "source": [
    "# Assemble all the columns to be used as features and prepare data for training"
   ]
  },
  {
   "cell_type": "code",
   "execution_count": 301,
   "metadata": {},
   "outputs": [],
   "source": [
    "from pyspark.ml.feature import VectorAssembler\n",
    "va = VectorAssembler(inputCols=['country_vec','goldstein','latitude','longitude','quad_class'], outputCol='features')\n"
   ]
  },
  {
   "cell_type": "code",
   "execution_count": 302,
   "metadata": {},
   "outputs": [],
   "source": [
    "dataset = va.transform(encoded)\n"
   ]
  },
  {
   "cell_type": "code",
   "execution_count": 303,
   "metadata": {},
   "outputs": [
    {
     "name": "stdout",
     "output_type": "stream",
     "text": [
      "+--------------------+\n",
      "|            features|\n",
      "+--------------------+\n",
      "|(181,[44,177,178,...|\n",
      "|(181,[9,177,178,1...|\n",
      "|(181,[6,178,179],...|\n",
      "|(181,[6,177,178,1...|\n",
      "|(181,[25,177,178,...|\n",
      "|(181,[3,177,178,1...|\n",
      "|(181,[3,177,178,1...|\n",
      "|(181,[0,177,178,1...|\n",
      "|(181,[7,177,178,1...|\n",
      "|(181,[7,177,178,1...|\n",
      "|(181,[5,177,178,1...|\n",
      "|(181,[0,177,178,1...|\n",
      "|(181,[7,177,178,1...|\n",
      "|(181,[0,177,178,1...|\n",
      "|(181,[1,177,178,1...|\n",
      "|(181,[10,177,178,...|\n",
      "|(181,[0,177,178,1...|\n",
      "|(181,[1,177,178,1...|\n",
      "|(181,[19,178,179]...|\n",
      "|(181,[3,178,179],...|\n",
      "+--------------------+\n",
      "only showing top 20 rows\n",
      "\n"
     ]
    }
   ],
   "source": [
    "dataset.select('features').show()"
   ]
  },
  {
   "cell_type": "code",
   "execution_count": 304,
   "metadata": {},
   "outputs": [],
   "source": [
    "dataset = dataset.select('features','root_idx')"
   ]
  },
  {
   "cell_type": "code",
   "execution_count": 305,
   "metadata": {},
   "outputs": [
    {
     "name": "stdout",
     "output_type": "stream",
     "text": [
      "+--------------------+--------+\n",
      "|            features|root_idx|\n",
      "+--------------------+--------+\n",
      "|(181,[44,177,178,...|     6.0|\n",
      "|(181,[9,177,178,1...|     2.0|\n",
      "|(181,[6,178,179],...|     0.0|\n",
      "|(181,[6,177,178,1...|     2.0|\n",
      "|(181,[25,177,178,...|    17.0|\n",
      "|(181,[3,177,178,1...|    11.0|\n",
      "|(181,[3,177,178,1...|    11.0|\n",
      "|(181,[0,177,178,1...|     3.0|\n",
      "|(181,[7,177,178,1...|     7.0|\n",
      "|(181,[7,177,178,1...|     2.0|\n",
      "|(181,[5,177,178,1...|     3.0|\n",
      "|(181,[0,177,178,1...|     9.0|\n",
      "|(181,[7,177,178,1...|     5.0|\n",
      "|(181,[0,177,178,1...|     3.0|\n",
      "|(181,[1,177,178,1...|     8.0|\n",
      "|(181,[10,177,178,...|     8.0|\n",
      "|(181,[0,177,178,1...|     8.0|\n",
      "|(181,[1,177,178,1...|     6.0|\n",
      "|(181,[19,178,179]...|     0.0|\n",
      "|(181,[3,178,179],...|     0.0|\n",
      "+--------------------+--------+\n",
      "only showing top 20 rows\n",
      "\n"
     ]
    }
   ],
   "source": [
    "dataset.show()"
   ]
  },
  {
   "cell_type": "code",
   "execution_count": 245,
   "metadata": {},
   "outputs": [],
   "source": []
  },
  {
   "cell_type": "markdown",
   "metadata": {},
   "source": [
    "# Split data set for training and testing"
   ]
  },
  {
   "cell_type": "code",
   "execution_count": 306,
   "metadata": {},
   "outputs": [],
   "source": [
    "training, test = dataset.randomSplit([0.7, 0.3], seed = 1000)\n",
    "# df4.randomSplit([1.0, 2.0], 24)"
   ]
  },
  {
   "cell_type": "markdown",
   "metadata": {},
   "source": [
    "# Decision Tree"
   ]
  },
  {
   "cell_type": "code",
   "execution_count": 307,
   "metadata": {},
   "outputs": [],
   "source": [
    "from pyspark.ml.classification import DecisionTreeClassifier\n",
    "dt = DecisionTreeClassifier(labelCol = 'root_idx',featuresCol = 'features')\n",
    "dt_model = dt.fit(training)\n",
    "dt_predictions = dt_model.transform(test)"
   ]
  },
  {
   "cell_type": "code",
   "execution_count": 308,
   "metadata": {},
   "outputs": [
    {
     "name": "stdout",
     "output_type": "stream",
     "text": [
      "+--------------------+--------+\n",
      "|            features|root_idx|\n",
      "+--------------------+--------+\n",
      "|(181,[0,177,178,1...|     0.0|\n",
      "|(181,[0,177,178,1...|     0.0|\n",
      "|(181,[0,177,178,1...|     0.0|\n",
      "|(181,[0,177,178,1...|     0.0|\n",
      "|(181,[0,177,178,1...|     0.0|\n",
      "|(181,[0,177,178,1...|     0.0|\n",
      "|(181,[0,177,178,1...|     0.0|\n",
      "|(181,[0,177,178,1...|     0.0|\n",
      "|(181,[0,177,178,1...|     0.0|\n",
      "|(181,[0,177,178,1...|     0.0|\n",
      "|(181,[0,177,178,1...|     0.0|\n",
      "|(181,[0,177,178,1...|     0.0|\n",
      "|(181,[0,177,178,1...|     0.0|\n",
      "|(181,[0,177,178,1...|     0.0|\n",
      "|(181,[0,177,178,1...|     0.0|\n",
      "|(181,[0,177,178,1...|     0.0|\n",
      "|(181,[0,177,178,1...|     0.0|\n",
      "|(181,[0,177,178,1...|     0.0|\n",
      "|(181,[0,177,178,1...|     0.0|\n",
      "|(181,[0,177,178,1...|     0.0|\n",
      "+--------------------+--------+\n",
      "only showing top 20 rows\n",
      "\n"
     ]
    }
   ],
   "source": [
    "training.show()"
   ]
  },
  {
   "cell_type": "code",
   "execution_count": 309,
   "metadata": {},
   "outputs": [
    {
     "name": "stdout",
     "output_type": "stream",
     "text": [
      "+--------------------+--------+--------------------+--------------------+----------+\n",
      "|            features|root_idx|       rawPrediction|         probability|prediction|\n",
      "+--------------------+--------+--------------------+--------------------+----------+\n",
      "|(181,[0,177,178,1...|     0.0|[53.0,0.0,0.0,0.0...|[1.0,0.0,0.0,0.0,...|       0.0|\n",
      "|(181,[0,177,178,1...|     0.0|[53.0,0.0,0.0,0.0...|[1.0,0.0,0.0,0.0,...|       0.0|\n",
      "|(181,[0,177,178,1...|     0.0|[53.0,0.0,0.0,0.0...|[1.0,0.0,0.0,0.0,...|       0.0|\n",
      "|(181,[0,177,178,1...|     0.0|[53.0,0.0,0.0,0.0...|[1.0,0.0,0.0,0.0,...|       0.0|\n",
      "|(181,[0,177,178,1...|     0.0|[53.0,0.0,0.0,0.0...|[1.0,0.0,0.0,0.0,...|       0.0|\n",
      "|(181,[0,177,178,1...|     0.0|[53.0,0.0,0.0,0.0...|[1.0,0.0,0.0,0.0,...|       0.0|\n",
      "|(181,[0,177,178,1...|     0.0|[53.0,0.0,0.0,0.0...|[1.0,0.0,0.0,0.0,...|       0.0|\n",
      "|(181,[0,177,178,1...|     0.0|[53.0,0.0,0.0,0.0...|[1.0,0.0,0.0,0.0,...|       0.0|\n",
      "|(181,[0,177,178,1...|     0.0|[53.0,0.0,0.0,0.0...|[1.0,0.0,0.0,0.0,...|       0.0|\n",
      "|(181,[0,177,178,1...|     0.0|[53.0,0.0,0.0,0.0...|[1.0,0.0,0.0,0.0,...|       0.0|\n",
      "|(181,[0,177,178,1...|     0.0|[53.0,0.0,0.0,0.0...|[1.0,0.0,0.0,0.0,...|       0.0|\n",
      "|(181,[0,177,178,1...|     0.0|[53.0,0.0,0.0,0.0...|[1.0,0.0,0.0,0.0,...|       0.0|\n",
      "|(181,[0,177,178,1...|     8.0|[0.0,0.0,0.0,0.0,...|[0.0,0.0,0.0,0.0,...|       8.0|\n",
      "|(181,[0,177,178,1...|     0.0|[3084.0,0.0,0.0,0...|[1.0,0.0,0.0,0.0,...|       0.0|\n",
      "|(181,[0,177,178,1...|     0.0|[3084.0,0.0,0.0,0...|[1.0,0.0,0.0,0.0,...|       0.0|\n",
      "|(181,[0,177,178,1...|     0.0|[3084.0,0.0,0.0,0...|[1.0,0.0,0.0,0.0,...|       0.0|\n",
      "|(181,[0,177,178,1...|     0.0|[3084.0,0.0,0.0,0...|[1.0,0.0,0.0,0.0,...|       0.0|\n",
      "|(181,[0,177,178,1...|     8.0|[0.0,0.0,0.0,0.0,...|[0.0,0.0,0.0,0.0,...|       8.0|\n",
      "|(181,[0,177,178,1...|     8.0|[0.0,0.0,0.0,0.0,...|[0.0,0.0,0.0,0.0,...|       8.0|\n",
      "|(181,[0,177,178,1...|     8.0|[0.0,0.0,0.0,0.0,...|[0.0,0.0,0.0,0.0,...|       8.0|\n",
      "+--------------------+--------+--------------------+--------------------+----------+\n",
      "only showing top 20 rows\n",
      "\n"
     ]
    }
   ],
   "source": [
    "dt_predictions.show()"
   ]
  },
  {
   "cell_type": "markdown",
   "metadata": {},
   "source": [
    "# Evaluating the model"
   ]
  },
  {
   "cell_type": "code",
   "execution_count": 310,
   "metadata": {},
   "outputs": [],
   "source": [
    "from pyspark.ml.evaluation import MulticlassClassificationEvaluator\n",
    "dt_evaluator = MulticlassClassificationEvaluator(labelCol=\"root_idx\",predictionCol = \"prediction\",metricName = \"accuracy\")"
   ]
  },
  {
   "cell_type": "code",
   "execution_count": 311,
   "metadata": {},
   "outputs": [],
   "source": [
    "dt_accuracy = dt_evaluator.evaluate(dt_predictions)"
   ]
  },
  {
   "cell_type": "code",
   "execution_count": 312,
   "metadata": {},
   "outputs": [
    {
     "data": {
      "text/plain": [
       "0.8544912164401723"
      ]
     },
     "execution_count": 312,
     "metadata": {},
     "output_type": "execute_result"
    }
   ],
   "source": [
    "dt_accuracy"
   ]
  },
  {
   "cell_type": "markdown",
   "metadata": {},
   "source": [
    "# Random Forest"
   ]
  },
  {
   "cell_type": "code",
   "execution_count": 313,
   "metadata": {},
   "outputs": [],
   "source": [
    "from pyspark.ml.classification import RandomForestClassifier\n",
    "rf = RandomForestClassifier(featuresCol='features', labelCol='root_idx', numTrees=3)"
   ]
  },
  {
   "cell_type": "code",
   "execution_count": 314,
   "metadata": {},
   "outputs": [],
   "source": [
    "rf_model = rf.fit(training)\n",
    "# dt_model = dt.fit(training)\n",
    "rf_predictions = rf_model.transform(test)\n",
    "rf_evaluator = MulticlassClassificationEvaluator(labelCol=\"root_idx\",predictionCol = \"prediction\",metricName = \"accuracy\")\n",
    "rf_accuracy = rf_evaluator.evaluate(rf_predictions)"
   ]
  },
  {
   "cell_type": "code",
   "execution_count": 315,
   "metadata": {},
   "outputs": [
    {
     "data": {
      "text/plain": [
       "0.43138879681803116"
      ]
     },
     "execution_count": 315,
     "metadata": {},
     "output_type": "execute_result"
    }
   ],
   "source": [
    "rf_accuracy"
   ]
  },
  {
   "cell_type": "code",
   "execution_count": 316,
   "metadata": {},
   "outputs": [],
   "source": [
    "# from pyspark.ml.classification import NaiveBayes"
   ]
  },
  {
   "cell_type": "markdown",
   "metadata": {},
   "source": [
    "# SVM"
   ]
  },
  {
   "cell_type": "code",
   "execution_count": 350,
   "metadata": {},
   "outputs": [],
   "source": [
    "from pyspark.ml.classification import LinearSVC\n",
    "lsvc = LinearSVC(maxIter=5, regParam=0.1)"
   ]
  },
  {
   "cell_type": "code",
   "execution_count": 346,
   "metadata": {},
   "outputs": [
    {
     "name": "stdout",
     "output_type": "stream",
     "text": [
      "+--------------------+--------+\n",
      "|            features|root_idx|\n",
      "+--------------------+--------+\n",
      "|(181,[0,177,178,1...|     0.0|\n",
      "|(181,[0,177,178,1...|     0.0|\n",
      "|(181,[0,177,178,1...|     0.0|\n",
      "|(181,[0,177,178,1...|     0.0|\n",
      "|(181,[0,177,178,1...|     0.0|\n",
      "|(181,[0,177,178,1...|     0.0|\n",
      "|(181,[0,177,178,1...|     0.0|\n",
      "|(181,[0,177,178,1...|     0.0|\n",
      "|(181,[0,177,178,1...|     0.0|\n",
      "|(181,[0,177,178,1...|     0.0|\n",
      "|(181,[0,177,178,1...|     0.0|\n",
      "|(181,[0,177,178,1...|     0.0|\n",
      "|(181,[0,177,178,1...|     0.0|\n",
      "|(181,[0,177,178,1...|     0.0|\n",
      "|(181,[0,177,178,1...|     0.0|\n",
      "|(181,[0,177,178,1...|     0.0|\n",
      "|(181,[0,177,178,1...|     0.0|\n",
      "|(181,[0,177,178,1...|     0.0|\n",
      "|(181,[0,177,178,1...|     0.0|\n",
      "|(181,[0,177,178,1...|     0.0|\n",
      "+--------------------+--------+\n",
      "only showing top 20 rows\n",
      "\n"
     ]
    }
   ],
   "source": [
    "# lsvcModel = lsvc.fit(training)\n",
    "training.show()"
   ]
  },
  {
   "cell_type": "code",
   "execution_count": 347,
   "metadata": {},
   "outputs": [],
   "source": [
    "train = training.selectExpr(\"features as features\", \"root_idx as label\")"
   ]
  },
  {
   "cell_type": "code",
   "execution_count": 348,
   "metadata": {},
   "outputs": [
    {
     "name": "stdout",
     "output_type": "stream",
     "text": [
      "+--------------------+-----+\n",
      "|            features|label|\n",
      "+--------------------+-----+\n",
      "|(181,[0,177,178,1...|  0.0|\n",
      "|(181,[0,177,178,1...|  0.0|\n",
      "|(181,[0,177,178,1...|  0.0|\n",
      "|(181,[0,177,178,1...|  0.0|\n",
      "|(181,[0,177,178,1...|  0.0|\n",
      "|(181,[0,177,178,1...|  0.0|\n",
      "|(181,[0,177,178,1...|  0.0|\n",
      "|(181,[0,177,178,1...|  0.0|\n",
      "|(181,[0,177,178,1...|  0.0|\n",
      "|(181,[0,177,178,1...|  0.0|\n",
      "|(181,[0,177,178,1...|  0.0|\n",
      "|(181,[0,177,178,1...|  0.0|\n",
      "|(181,[0,177,178,1...|  0.0|\n",
      "|(181,[0,177,178,1...|  0.0|\n",
      "|(181,[0,177,178,1...|  0.0|\n",
      "|(181,[0,177,178,1...|  0.0|\n",
      "|(181,[0,177,178,1...|  0.0|\n",
      "|(181,[0,177,178,1...|  0.0|\n",
      "|(181,[0,177,178,1...|  0.0|\n",
      "|(181,[0,177,178,1...|  0.0|\n",
      "+--------------------+-----+\n",
      "only showing top 20 rows\n",
      "\n"
     ]
    }
   ],
   "source": [
    "train.show()"
   ]
  },
  {
   "cell_type": "code",
   "execution_count": 351,
   "metadata": {},
   "outputs": [],
   "source": [
    "# lsvcModel = lsvc.fit(train)\n",
    "from pyspark.ml.classification import LogisticRegression, OneVsRest\n",
    "from pyspark.ml.evaluation import MulticlassClassificationEvaluator\n",
    "ovr = OneVsRest(classifier=lsvc)"
   ]
  },
  {
   "cell_type": "code",
   "execution_count": 352,
   "metadata": {},
   "outputs": [],
   "source": [
    "svmMod = ovr.fit(train)"
   ]
  },
  {
   "cell_type": "code",
   "execution_count": 353,
   "metadata": {},
   "outputs": [],
   "source": [
    "svm_predictions = svmMod.transform(test)"
   ]
  },
  {
   "cell_type": "code",
   "execution_count": 354,
   "metadata": {},
   "outputs": [
    {
     "name": "stdout",
     "output_type": "stream",
     "text": [
      "+--------------------+--------+----------+\n",
      "|            features|root_idx|prediction|\n",
      "+--------------------+--------+----------+\n",
      "|(181,[0,177,178,1...|     0.0|       0.0|\n",
      "|(181,[0,177,178,1...|     0.0|       0.0|\n",
      "|(181,[0,177,178,1...|     0.0|       0.0|\n",
      "|(181,[0,177,178,1...|     0.0|       0.0|\n",
      "|(181,[0,177,178,1...|     0.0|       0.0|\n",
      "|(181,[0,177,178,1...|     0.0|       0.0|\n",
      "|(181,[0,177,178,1...|     0.0|       0.0|\n",
      "|(181,[0,177,178,1...|     0.0|       0.0|\n",
      "|(181,[0,177,178,1...|     0.0|       0.0|\n",
      "|(181,[0,177,178,1...|     0.0|       0.0|\n",
      "|(181,[0,177,178,1...|     0.0|       0.0|\n",
      "|(181,[0,177,178,1...|     0.0|       0.0|\n",
      "|(181,[0,177,178,1...|     8.0|       0.0|\n",
      "|(181,[0,177,178,1...|     0.0|       0.0|\n",
      "|(181,[0,177,178,1...|     0.0|       0.0|\n",
      "|(181,[0,177,178,1...|     0.0|       0.0|\n",
      "|(181,[0,177,178,1...|     0.0|       0.0|\n",
      "|(181,[0,177,178,1...|     8.0|       0.0|\n",
      "|(181,[0,177,178,1...|     8.0|       0.0|\n",
      "|(181,[0,177,178,1...|     8.0|       0.0|\n",
      "+--------------------+--------+----------+\n",
      "only showing top 20 rows\n",
      "\n"
     ]
    }
   ],
   "source": [
    "svm_predictions.show()"
   ]
  },
  {
   "cell_type": "code",
   "execution_count": 355,
   "metadata": {},
   "outputs": [],
   "source": [
    "evaluator = MulticlassClassificationEvaluator(metricName=\"accuracy\")"
   ]
  },
  {
   "cell_type": "code",
   "execution_count": 356,
   "metadata": {},
   "outputs": [],
   "source": [
    "svm_predictions = svm_predictions.selectExpr(\"features as features\", \"root_idx as label\",\"prediction as prediction\")"
   ]
  },
  {
   "cell_type": "code",
   "execution_count": 358,
   "metadata": {},
   "outputs": [],
   "source": [
    "accuracy = evaluator.evaluate(svm_predictions)\n",
    "# lr_predictions.show()"
   ]
  },
  {
   "cell_type": "code",
   "execution_count": 359,
   "metadata": {},
   "outputs": [
    {
     "data": {
      "text/plain": [
       "0.41083858137222407"
      ]
     },
     "execution_count": 359,
     "metadata": {},
     "output_type": "execute_result"
    }
   ],
   "source": [
    "accuracy"
   ]
  },
  {
   "cell_type": "markdown",
   "metadata": {},
   "source": [
    "# Logistic Regression"
   ]
  },
  {
   "cell_type": "code",
   "execution_count": 360,
   "metadata": {},
   "outputs": [],
   "source": [
    "from pyspark.ml.classification import LogisticRegression, OneVsRest\n",
    "from pyspark.ml.evaluation import MulticlassClassificationEvaluator\n",
    "lr = LogisticRegression(maxIter=10, tol=1E-6, fitIntercept=True)"
   ]
  },
  {
   "cell_type": "code",
   "execution_count": 361,
   "metadata": {},
   "outputs": [],
   "source": [
    "ovr = OneVsRest(classifier=lr)"
   ]
  },
  {
   "cell_type": "code",
   "execution_count": 362,
   "metadata": {},
   "outputs": [],
   "source": [
    "ovrModel = ovr.fit(train)"
   ]
  },
  {
   "cell_type": "code",
   "execution_count": 363,
   "metadata": {},
   "outputs": [],
   "source": [
    "lr_predictions = ovrModel.transform(test)"
   ]
  },
  {
   "cell_type": "code",
   "execution_count": 364,
   "metadata": {},
   "outputs": [
    {
     "name": "stdout",
     "output_type": "stream",
     "text": [
      "+--------------------+--------+----------+\n",
      "|            features|root_idx|prediction|\n",
      "+--------------------+--------+----------+\n",
      "|(181,[0,177,178,1...|     0.0|       0.0|\n",
      "|(181,[0,177,178,1...|     0.0|       0.0|\n",
      "|(181,[0,177,178,1...|     0.0|       0.0|\n",
      "|(181,[0,177,178,1...|     0.0|       0.0|\n",
      "|(181,[0,177,178,1...|     0.0|       0.0|\n",
      "|(181,[0,177,178,1...|     0.0|       0.0|\n",
      "|(181,[0,177,178,1...|     0.0|       0.0|\n",
      "|(181,[0,177,178,1...|     0.0|       0.0|\n",
      "|(181,[0,177,178,1...|     0.0|       0.0|\n",
      "|(181,[0,177,178,1...|     0.0|       0.0|\n",
      "|(181,[0,177,178,1...|     0.0|       0.0|\n",
      "|(181,[0,177,178,1...|     0.0|       0.0|\n",
      "|(181,[0,177,178,1...|     8.0|       0.0|\n",
      "|(181,[0,177,178,1...|     0.0|       0.0|\n",
      "|(181,[0,177,178,1...|     0.0|       0.0|\n",
      "|(181,[0,177,178,1...|     0.0|       0.0|\n",
      "|(181,[0,177,178,1...|     0.0|       0.0|\n",
      "|(181,[0,177,178,1...|     8.0|       8.0|\n",
      "|(181,[0,177,178,1...|     8.0|       8.0|\n",
      "|(181,[0,177,178,1...|     8.0|       8.0|\n",
      "+--------------------+--------+----------+\n",
      "only showing top 20 rows\n",
      "\n"
     ]
    }
   ],
   "source": [
    "lr_predictions.show()"
   ]
  },
  {
   "cell_type": "code",
   "execution_count": 365,
   "metadata": {},
   "outputs": [],
   "source": [
    "evaluator = MulticlassClassificationEvaluator(metricName=\"accuracy\")"
   ]
  },
  {
   "cell_type": "code",
   "execution_count": 366,
   "metadata": {},
   "outputs": [],
   "source": [
    "lr_predictions = lr_predictions.selectExpr(\"features as features\", \"root_idx as label\",\"prediction as prediction\")"
   ]
  },
  {
   "cell_type": "code",
   "execution_count": 367,
   "metadata": {},
   "outputs": [],
   "source": [
    "accuracy = evaluator.evaluate(lr_predictions)\n",
    "# lr_predictions.show()"
   ]
  },
  {
   "cell_type": "code",
   "execution_count": 368,
   "metadata": {},
   "outputs": [
    {
     "data": {
      "text/plain": [
       "0.7543917799138217"
      ]
     },
     "execution_count": 368,
     "metadata": {},
     "output_type": "execute_result"
    }
   ],
   "source": [
    "accuracy"
   ]
  },
  {
   "cell_type": "code",
   "execution_count": 340,
   "metadata": {},
   "outputs": [
    {
     "name": "stdout",
     "output_type": "stream",
     "text": [
      "java version \"1.8.0_211\"\r\n",
      "Java(TM) SE Runtime Environment (build 1.8.0_211-b12)\r\n",
      "Java HotSpot(TM) 64-Bit Server VM (build 25.211-b12, mixed mode)\r\n"
     ]
    }
   ],
   "source": [
    "!java -version"
   ]
  },
  {
   "cell_type": "code",
   "execution_count": null,
   "metadata": {},
   "outputs": [],
   "source": []
  },
  {
   "cell_type": "code",
   "execution_count": 369,
   "metadata": {},
   "outputs": [],
   "source": [
    "from pyspark.ml.classification import MultilayerPerceptronClassifier\n",
    "from pyspark.ml.evaluation import MulticlassClassificationEvaluator\n",
    "layers = [5,5, 4, 1]"
   ]
  },
  {
   "cell_type": "code",
   "execution_count": 370,
   "metadata": {},
   "outputs": [],
   "source": [
    "trainer = MultilayerPerceptronClassifier(maxIter=100, layers=layers, blockSize=128, seed=1234)"
   ]
  },
  {
   "cell_type": "code",
   "execution_count": 374,
   "metadata": {},
   "outputs": [],
   "source": [
    "# model = trainer.fit(train)"
   ]
  },
  {
   "cell_type": "code",
   "execution_count": null,
   "metadata": {},
   "outputs": [],
   "source": [
    "result = model.transform(test)\n",
    "predictionAndLabels = result.select(\"prediction\", \"label\")\n",
    "evaluator = MulticlassClassificationEvaluator(metricName=\"accuracy\")\n",
    "print(\"Test set accuracy = \" + str(evaluator.evaluate(predictionAndLabels)))"
   ]
  }
 ],
 "metadata": {
  "kernelspec": {
   "display_name": "Python 3",
   "language": "python",
   "name": "python3"
  },
  "language_info": {
   "codemirror_mode": {
    "name": "ipython",
    "version": 3
   },
   "file_extension": ".py",
   "mimetype": "text/x-python",
   "name": "python",
   "nbconvert_exporter": "python",
   "pygments_lexer": "ipython3",
   "version": "3.7.4"
  }
 },
 "nbformat": 4,
 "nbformat_minor": 2
}
